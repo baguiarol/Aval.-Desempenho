{
 "cells": [
  {
   "cell_type": "markdown",
   "id": "0b13cbad",
   "metadata": {},
   "source": [
    "# Avaliação de Desempenho\n",
    "\n",
    "## Atividades da aula do dia 09/02/2022 (até o slide 99)"
   ]
  },
  {
   "cell_type": "markdown",
   "id": "adeed2c7",
   "metadata": {},
   "source": [
    "### Aluna: Brenda Aguiar"
   ]
  },
  {
   "cell_type": "code",
   "execution_count": 51,
   "id": "3ebc1fd7",
   "metadata": {},
   "outputs": [],
   "source": [
    "import math as mt\n",
    "import numpy as np\n",
    "import scipy.stats as stats\n",
    "import pandas as pd\n",
    "import matplotlib.pyplot as plt\n",
    "from scipy.stats import normaltest"
   ]
  },
  {
   "cell_type": "code",
   "execution_count": 52,
   "id": "a968d196",
   "metadata": {},
   "outputs": [],
   "source": [
    "def media(lista):\n",
    "    soma = 0\n",
    "    for i in range(len(lista)):\n",
    "        soma += lista[i]\n",
    "    return soma/len(lista)\n",
    "\n",
    "def varAmostral(lista):\n",
    "    m = media(lista)\n",
    "    soma = 0\n",
    "    for i in range(len(lista)):\n",
    "        soma += (lista[i]-m)**2\n",
    "    return soma/(len(lista)-1)\n",
    "      \n",
    "def desPadrao(lista):\n",
    "    dp = mt.sqrt(varAmostral(lista))\n",
    "    return dp"
   ]
  },
  {
   "cell_type": "markdown",
   "id": "77457e85",
   "metadata": {},
   "source": [
    "Vamo supor que x representa uma amostra coletada de uma população com média e desvio padrão conhecidos.\n",
    "\n",
    "6.2 6.6 7.1 7.4 7.6 7.9 8.0 8.3 8.4 8.5 8.6 8.8 8.8 9.1 9.2 9.4 9.4 9.7 9.9 10.2 10.4 10.8 11.3 11.9\n",
    "\n",
    "Testar se a media da população é igual a 9, ao nível de significância de 5%."
   ]
  },
  {
   "cell_type": "markdown",
   "id": "040bc1d5",
   "metadata": {},
   "source": [
    "H0: μ = 9\n",
    "\n",
    "H1: μ ≠ 9\n",
    "\n",
    "\n",
    "Sabemos que a média amostral pode assumir muitos valores distintos, sendo assim podemos supor critérios para se rejeitar ou não rejeitar a hipótese nula, do tipo, se a média estiver entre $8.5 ≤ \\overline{x} ≤ 10.5$ não rejeitamos a H0, porém se a média for mais extrema que isso rejeitaremos. Chamaremos o região dos valores extremos de região crítica ou região de rejeição.\n",
    "\n",
    "\n",
    "Se a população da variável X tem distribuição normal, com desvio padrão populacional\n",
    "$\\sigma$  conhecido, a variável de teste é a variável normal padronizada."
   ]
  },
  {
   "cell_type": "code",
   "execution_count": 53,
   "id": "5124656e",
   "metadata": {},
   "outputs": [
    {
     "name": "stdout",
     "output_type": "stream",
     "text": [
      "8.895833333333334 -> 9\n",
      "1.4299526190589757 -> 1\n",
      "24\n"
     ]
    }
   ],
   "source": [
    "x = [6.2, 6.6, 7.1, 7.4, 7.6, 7.9, 8.0, 8.3, \n",
    "     8.4, 8.5, 8.6, 8.8, 8.8, 9.1, 9.2, 9.4,\n",
    "     9.4, 9.7, 9.9, 10.2, 10.4, 10.8, 11.3, 11.9]\n",
    "\n",
    "mediaX = media(x)\n",
    "print(mediaX, \"->\", round(mediaX))\n",
    "\n",
    "desPadraoX = desPadrao(x)\n",
    "print(desPadraoX, \"->\", round(desPadraoX))\n",
    "\n",
    "tamX = len(x)\n",
    "print(tamX)\n",
    "\n",
    "significancia = 0.05"
   ]
  },
  {
   "cell_type": "code",
   "execution_count": 54,
   "id": "2523a07f",
   "metadata": {},
   "outputs": [
    {
     "data": {
      "image/png": "[encoded data removed]",
      "text/plain": [
       "<Figure size 432x288 with 1 Axes>"
      ]
     },
     "metadata": {
      "needs_background": "light"
     },
     "output_type": "display_data"
    }
   ],
   "source": [
    "plt.title('Visualização dos dados')\n",
    "plt.grid()\n",
    "plt.hist(x, bins = 5)\n",
    "plt.show()"
   ]
  },
  {
   "cell_type": "code",
   "execution_count": 55,
   "id": "1051c5fb",
   "metadata": {},
   "outputs": [
    {
     "name": "stdout",
     "output_type": "stream",
     "text": [
      "Rejeito H1: \n",
      "Aceita-se H0: 5% de significância se pode afirmar que a media está dentro do intervalo.\n"
     ]
    }
   ],
   "source": [
    "stat_test, p_valor = normaltest(x)\n",
    "\n",
    "\n",
    "if(p_valor <= significancia):\n",
    "    print(\"Rejeito H0\")\n",
    "    print(\"Aceita-se H0, isto é, a 5% de significância se pode afirmar que a media não está dentro do intervalo.\")\n",
    "    \n",
    "\n",
    "else: \n",
    "    print(\"Rejeito H1: \")\n",
    "    print(\"Aceita-se H0: 5% de significância se pode afirmar que a media está dentro do intervalo.\")"
   ]
  },
  {
   "cell_type": "markdown",
   "id": "a1eba0c0",
   "metadata": {},
   "source": [
    "Vamo supor que x representa uma amostra coletada de uma população\n",
    "com média e desvio padrão conhecidos. Antes, testar a normalidade\n",
    "usando o teste de Shapiro-Wilk.\n",
    "\n",
    "\n",
    "6.2 6.6 7.1 7.4 7.6 7.9 8.0 8.3 8.4 8.5 8.6 8.8\n",
    "8.8 9.1 9.2 9.4 9.4 9.7 9.9 10.2 10.4 10.8 11.3 11.9\n",
    "\n",
    "Testar se a media da população é igual a 9, ao nível de significância de 5%."
   ]
  },
  {
   "cell_type": "code",
   "execution_count": 56,
   "id": "b2e1c9ff",
   "metadata": {},
   "outputs": [],
   "source": [
    "x = [6.2, 6.6, 7.1, 7.4, 7.6, 7.9, \n",
    "     8.0, 8.3, 8.4, 8.5, 8.6, 8.8,\n",
    "     8.8, 9.1, 9.2, 9.4, 9.4, 9.7,\n",
    "     9.9, 10.2, 10.4, 10.8, 11.3, 11.9]"
   ]
  },
  {
   "cell_type": "code",
   "execution_count": 57,
   "id": "99f223ad",
   "metadata": {},
   "outputs": [
    {
     "name": "stdout",
     "output_type": "stream",
     "text": [
      "Rejeito H1: \n",
      "Aceita-se H0: 5% de significância se pode afirmar que a media está dentro do intervalo.\n"
     ]
    }
   ],
   "source": [
    "significancia = 0.05\n",
    "t_test, p_valor = stats.shapiro(x)\n",
    "\n",
    "\n",
    "if(p_valor <= significancia):\n",
    "    print(\"Rejeito H0\")\n",
    "    print(\"Aceita-se H0, isto é, a 5% de significância se pode afirmar que a media não está dentro do intervalo.\")\n",
    "    \n",
    "\n",
    "else: \n",
    "    print(\"Rejeito H1: \")\n",
    "    print(\"Aceita-se H0: 5% de significância se pode afirmar que a media está dentro do intervalo.\")"
   ]
  },
  {
   "cell_type": "code",
   "execution_count": null,
   "id": "2f719c23",
   "metadata": {},
   "outputs": [],
   "source": []
  },
  {
   "cell_type": "code",
   "execution_count": null,
   "id": "304ea0ec",
   "metadata": {},
   "outputs": [],
   "source": []
  }
 ],
 "metadata": {
  "kernelspec": {
   "display_name": "Python 3 (ipykernel)",
   "language": "python",
   "name": "python3"
  },
  "language_info": {
   "codemirror_mode": {
    "name": "ipython",
    "version": 3
   },
   "file_extension": ".py",
   "mimetype": "text/x-python",
   "name": "python",
   "nbconvert_exporter": "python",
   "pygments_lexer": "ipython3",
   "version": "3.8.10"
  }
 },
 "nbformat": 4,
 "nbformat_minor": 5
}
