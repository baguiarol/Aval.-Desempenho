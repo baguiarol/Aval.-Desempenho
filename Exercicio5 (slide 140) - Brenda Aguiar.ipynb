{
 "cells": [
  {
   "cell_type": "markdown",
   "id": "3fcb8c9a",
   "metadata": {},
   "source": [
    "# Avaliação de Desempenho\n",
    "\n",
    "## Atividades da aula do dia 14/02/2022 (até o slide 140)"
   ]
  },
  {
   "cell_type": "markdown",
   "id": "51aa008c",
   "metadata": {},
   "source": [
    "### Aluna: Brenda Aguiar"
   ]
  },
  {
   "cell_type": "code",
   "execution_count": 1,
   "id": "26e7aef1",
   "metadata": {},
   "outputs": [],
   "source": [
    "import math as mt\n",
    "import numpy as np\n",
    "import scipy.stats as stats\n",
    "import pandas as pd\n",
    "import matplotlib.pyplot as plt"
   ]
  },
  {
   "cell_type": "code",
   "execution_count": 2,
   "id": "54b48fed",
   "metadata": {},
   "outputs": [],
   "source": [
    "def media(lista):\n",
    "    soma = 0\n",
    "    for i in range(len(lista)):\n",
    "        soma += lista[i]\n",
    "    return soma/len(lista)\n",
    "\n",
    "def varAmostral(lista):\n",
    "    m = media(lista)\n",
    "    soma = 0\n",
    "    for i in range(len(lista)):\n",
    "        soma += (lista[i]-m)**2\n",
    "    return soma/(len(lista)-1)\n",
    "      \n",
    "def desPadrao(lista):\n",
    "    dp = mt.sqrt(varAmostral(lista))\n",
    "    return dp"
   ]
  },
  {
   "cell_type": "markdown",
   "id": "7a672b97",
   "metadata": {},
   "source": [
    "Suponha que a V.A. X represente a idade de um calouro do IComp selecionado\n",
    "aleatoriamente. A tabela seguinte mostra a sua distribuição de probabilidade.\n",
    "Encontre a média e a variância de X.\n",
    "\n",
    "\n",
    "x 16 17 18 19 20 21 22\n",
    "\n",
    "\n",
    "p(x) 0,05 0,10 0,15 0,25 0,20 0,15 0,10"
   ]
  },
  {
   "cell_type": "code",
   "execution_count": 3,
   "id": "79309562",
   "metadata": {},
   "outputs": [
    {
     "name": "stdout",
     "output_type": "stream",
     "text": [
      "Media: 19.0\n",
      "Variancia: 4.666666666666667\n"
     ]
    }
   ],
   "source": [
    "x = [16, 17, 18, 19, 20, 21, 22]\n",
    "pX = [0.05, 0.10, 0.15, 0.25, 0.20, 0.15, 0.10]\n",
    "\n",
    "\n",
    "\n",
    "mediaX = media(x)\n",
    "print(\"Media:\", mediaX)\n",
    "\n",
    "varAmostralX = varAmostral(x)\n",
    "print(\"Variancia:\",varAmostralX)"
   ]
  },
  {
   "cell_type": "markdown",
   "id": "c0d30318",
   "metadata": {},
   "source": [
    "No vídeo game The Kings of Madra, os usuários resolvem quebra-cabeças lógicos\n",
    "para se tornarem mais poderosos e influentes. O número de pontos de experiência\n",
    "ganhos em cada nível é uma variável aleatória (Y), e é o quadrado do número de\n",
    "quebra-cabeças\n",
    "\n",
    "\n",
    "\n",
    "y 0 1 4 9 16 25  <br> \n",
    "\n",
    "p(y) 0,01 0,05 ? 0,25 0,35 0,30\n",
    "\n",
    "\n",
    "Determine  <br> \n"
   ]
  },
  {
   "cell_type": "markdown",
   "id": "129d6071",
   "metadata": {},
   "source": [
    "(a) p(4)"
   ]
  },
  {
   "cell_type": "code",
   "execution_count": 4,
   "id": "d201219d",
   "metadata": {},
   "outputs": [
    {
     "name": "stdout",
     "output_type": "stream",
     "text": [
      "6\n",
      "[0.01, 0.05, 0.67, 0.25, 0.35, 0.3]\n"
     ]
    }
   ],
   "source": [
    "y = [0, 1, 4, 9, 16, 25]\n",
    "pY = [0.01, 0.05, 0, 0.25, 0.35, 0.30] # o zero pra indicar o ?\n",
    "\n",
    "espacoAmostral = len(y)\n",
    "print(espacoAmostral)\n",
    "p = 4/espacoAmostral\n",
    "\n",
    "pY[2] = round(p,2)\n",
    "\n",
    "print(pY)\n"
   ]
  },
  {
   "cell_type": "markdown",
   "id": "e226f75e",
   "metadata": {},
   "source": [
    "(b) P( 1 <= Y <= 16 )\n",
    "\n",
    " P( 1 <= Y <= 16 ) = P(Y<= 16) - P(Y<= 1)\n",
    " \n"
   ]
  },
  {
   "cell_type": "code",
   "execution_count": 17,
   "id": "893b6fed",
   "metadata": {},
   "outputs": [
    {
     "name": "stdout",
     "output_type": "stream",
     "text": [
      "120.57000000000001\n"
     ]
    }
   ],
   "source": [
    "def propYQ(parada):\n",
    "    soma = 0\n",
    "    for i in range(len(y)):\n",
    "        if(y[i] <= parada):\n",
    "            soma += pow(y[i],2) * pY[i]\n",
    "    return soma\n",
    "\n",
    "somaQ1 = propYQ(1)\n",
    "# print(soma1)\n",
    "\n",
    "somaQ16 = propYQ(16)\n",
    "# print(soma16)\n",
    "\n",
    "somaTotal = somaQ16 - somaQ1\n",
    "print(somaTotal)"
   ]
  },
  {
   "cell_type": "code",
   "execution_count": 21,
   "id": "9b10301b",
   "metadata": {},
   "outputs": [
    {
     "name": "stdout",
     "output_type": "stream",
     "text": [
      "9.689100000000025\n"
     ]
    }
   ],
   "source": [
    "def propY(parada):\n",
    "    soma = 0\n",
    "    for i in range(len(y)):\n",
    "        if(y[i] <= parada):\n",
    "            soma += y[i] * pY[i]\n",
    "    return soma\n",
    "\n",
    "soma1 = propY(1)\n",
    "# print(soma1)\n",
    "\n",
    "soma16 = propY(16)\n",
    "# print(soma16)\n",
    "\n",
    "somaTotal2 = soma16 - soma1\n",
    "#print(somaTotal2)\n",
    "\n",
    "\n",
    "var = somaTotal - pow(somaTotal2,2)\n",
    "print(var)"
   ]
  },
  {
   "cell_type": "markdown",
   "id": "e4f9f7fc",
   "metadata": {},
   "source": [
    "(c) P( 1 < Y < 16 )\n",
    "\n",
    "P( 1 < Y < 16 ) = P(Y < 16) - P(Y < 1)"
   ]
  },
  {
   "cell_type": "code",
   "execution_count": 26,
   "id": "96dbc73a",
   "metadata": {},
   "outputs": [
    {
     "name": "stdout",
     "output_type": "stream",
     "text": [
      "31.020000000000003\n"
     ]
    }
   ],
   "source": [
    "def propYQ2(parada):\n",
    "    soma = 0\n",
    "    for i in range(len(y)):\n",
    "        if(y[i] < parada):\n",
    "            soma += pow(y[i],2) * pY[i]\n",
    "    return soma\n",
    "\n",
    "somaQ1 = propYQ2(1)\n",
    "# print(soma1)\n",
    "\n",
    "somaQ16 = propYQ2(16)\n",
    "# print(soma16)\n",
    "\n",
    "somaTotal = somaQ16 - somaQ1\n",
    "print(somaTotal)\n"
   ]
  },
  {
   "cell_type": "code",
   "execution_count": 28,
   "id": "cb3a80a1",
   "metadata": {},
   "outputs": [
    {
     "name": "stdout",
     "output_type": "stream",
     "text": [
      "6.2196\n"
     ]
    }
   ],
   "source": [
    "def propY2(parada):\n",
    "    soma = 0\n",
    "    for i in range(len(y)):\n",
    "        if(y[i] < parada):\n",
    "            soma += y[i] * pY[i]\n",
    "    return soma\n",
    "\n",
    "soma1 = propY2(1)\n",
    "# print(soma1)\n",
    "\n",
    "soma16 = propY2(16)\n",
    "# print(soma16)\n",
    "\n",
    "somaTotal2 = soma16 - soma1\n",
    "#print(somaTotal2)\n",
    "\n",
    "\n",
    "var = somaTotal - pow(somaTotal2,2)\n",
    "print(var)"
   ]
  },
  {
   "cell_type": "markdown",
   "id": "318e054b",
   "metadata": {},
   "source": [
    "Implementar em Python as estatísticas para as V.A. discretas estudadas.\n",
    "Ao escolher uma dessas V.A. para modelar um problema, basta passar\n",
    "os parâmetros que definem o problema. As estatísticas devem ser a\n",
    "saída da implementação. "
   ]
  },
  {
   "cell_type": "code",
   "execution_count": null,
   "id": "fb328a2c",
   "metadata": {},
   "outputs": [],
   "source": []
  },
  {
   "cell_type": "markdown",
   "id": "01728d5e",
   "metadata": {},
   "source": [
    "Implementar em Python as estatísticas para as V.A. contínuas\n",
    "estudadas. Ao escolher uma dessas V.A. para modelar um problema,\n",
    "basta passar os parâmetros que definem o problema. As estatísticas\n",
    "devem ser a saída da implementação. "
   ]
  },
  {
   "cell_type": "code",
   "execution_count": null,
   "id": "2333cf34",
   "metadata": {},
   "outputs": [],
   "source": []
  },
  {
   "cell_type": "code",
   "execution_count": null,
   "id": "c8e58e84",
   "metadata": {},
   "outputs": [],
   "source": []
  },
  {
   "cell_type": "code",
   "execution_count": null,
   "id": "645f7667",
   "metadata": {},
   "outputs": [],
   "source": []
  }
 ],
 "metadata": {
  "kernelspec": {
   "display_name": "Python 3 (ipykernel)",
   "language": "python",
   "name": "python3"
  },
  "language_info": {
   "codemirror_mode": {
    "name": "ipython",
    "version": 3
   },
   "file_extension": ".py",
   "mimetype": "text/x-python",
   "name": "python",
   "nbconvert_exporter": "python",
   "pygments_lexer": "ipython3",
   "version": "3.8.10"
  }
 },
 "nbformat": 4,
 "nbformat_minor": 5
}
