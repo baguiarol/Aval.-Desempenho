{
 "cells": [
  {
   "attachments": {
    "image.png": {
     "image/png": "[encoded data removed]"
    }
   },
   "cell_type": "markdown",
   "id": "08b950dc",
   "metadata": {},
   "source": [
    "* Execute a fila M/M/1 gerando n clientes (N=10^5, 10^6, 10^7, 10^8) após o fim do transiente:\n",
    "   \n",
    "   ** taxa de entrada: λ=9 clientes por segundo.\n",
    "   \n",
    "   ** taxa de serviço: μ=10 clientes por segundo.\n",
    "\n",
    "Para cada execução, calcule Wbarra, o tempo médio de espera na fila e o respectivo intervalo de confiança de 95%.\n",
    "\n",
    "* Plotar um gráfico de  Wbarra   em função de N.\n",
    "\n",
    "* Plotar uma linha para o ponto contendo o valor teórico esperado, dado pela seguinte fórmula:\n",
    "\n",
    "![image.png](attachment:image.png)"
   ]
  },
  {
   "cell_type": "code",
   "execution_count": 8,
   "id": "23a2254d",
   "metadata": {},
   "outputs": [],
   "source": [
    "import random                      \n",
    "import simpy # biblioteca de simulação\n",
    "import math as mt\n",
    "import numpy as np\n",
    "from tqdm import tqdm\n",
    "import statistics as ss\n",
    "import scipy.stats as st\n",
    "import matplotlib.pyplot as plt"
   ]
  },
  {
   "cell_type": "code",
   "execution_count": 9,
   "id": "25c5a99d",
   "metadata": {},
   "outputs": [],
   "source": [
    "taxaEntrada = 9           # taxa de entrada: λ=9 clientes por segundo. \n",
    "taxaServico = 10          # taxa de serviço: μ=10 clientes por segundo."
   ]
  },
  {
   "cell_type": "code",
   "execution_count": 74,
   "id": "5a4e569b",
   "metadata": {},
   "outputs": [],
   "source": [
    "def media(lista):\n",
    "    soma = 0\n",
    "    for i in range(len(lista)):\n",
    "        soma += lista[i]\n",
    "    return soma/len(lista)\n",
    "\n",
    "def varAmostral(lista):\n",
    "    m = media(lista)\n",
    "    soma = 0\n",
    "    for i in range(len(lista)):\n",
    "        soma += (lista[i]-m)**2\n",
    "    return soma/(len(lista)-1)\n",
    "      \n",
    "def desPadrao(lista):\n",
    "    dp = mt.sqrt(varAmostral(lista))\n",
    "    return dp\n",
    "\n",
    "def exponencial(b):\n",
    "    u = random.random()\n",
    "    x = -b * mt.log(1-u)\n",
    "\n",
    "    return(x)"
   ]
  },
  {
   "cell_type": "code",
   "execution_count": 75,
   "id": "0a6461d4",
   "metadata": {},
   "outputs": [],
   "source": [
    "def tempoQuantiMedia(quanti, media):\n",
    "    return [-(1/media) *  np.log(1 - np.random.uniform(0,1)) for _ in range(quanti-1)]"
   ]
  },
  {
   "cell_type": "code",
   "execution_count": 112,
   "id": "f61d43a6",
   "metadata": {},
   "outputs": [],
   "source": [
    "def mm1(n, lamb, mi):\n",
    "    medioEsperaFila = tempoQuantiMedia(n, lamb)\n",
    "    servicos = tempoQuantiMedia(n, mi)\n",
    "    filaEsperas = [0]\n",
    "    espera = 0\n",
    "    i = 0\n",
    "    while i < len(medioEsperaFila):\n",
    "        servicoCompleto = servicos[i] + filaEsperas[-1]\n",
    "        if (medioEsperaFila[i] <= servicoCompleto):\n",
    "             espera = (servicos[i] - medioEsperaFila[i]) + filaEsperas[-1]\n",
    "        else:\n",
    "             espera = 0\n",
    "        filaEsperas.append(espera)\n",
    "        i+=1\n",
    "    return (filaEsperas)"
   ]
  },
  {
   "cell_type": "code",
   "execution_count": 113,
   "id": "7c8f5b51",
   "metadata": {},
   "outputs": [],
   "source": [
    "def mser5y(nClientes, x):\n",
    "    auxList = []\n",
    "    aux = 0\n",
    "    z = []\n",
    "    i = j =0\n",
    "    while i < nClientes:\n",
    "        while j < 5:\n",
    "            auxList.append(x[i])\n",
    "            i +=1\n",
    "            j +=1\n",
    "        z.append(media(auxList))\n",
    "        auxList.clear()\n",
    "        j=0\n",
    "    mser5yList = []\n",
    "    k = nClientes/5\n",
    "    meio = k/2\n",
    "    d = 0\n",
    "    while d < meio:\n",
    "        desvpZ = ss.fmean(z)\n",
    "        aux = desvpZ / mt.sqrt(k-d)\n",
    "        mser5yList.append(aux)\n",
    "        d += 1\n",
    "        del z[0]\n",
    "    menor = min(mser5yList)              \n",
    "    posicao = mser5yList.index(menor)\n",
    "    return posicao"
   ]
  },
  {
   "cell_type": "code",
   "execution_count": 116,
   "id": "b5211352",
   "metadata": {},
   "outputs": [],
   "source": [
    "def truncagem(nClientes):\n",
    "    i =0\n",
    "    n = nClientes\n",
    "    x = mm1(n, 9, 10) # 10^5\n",
    "    mser5yList =  mser5y(n, x)\n",
    "\n",
    "    while mser5yList == 0:\n",
    "        print('Ainda não se encontrou o ponto de truncagem.\\n')\n",
    "        print('A coletar mais informações até que se encontre...')\n",
    "        n += 2000  \n",
    "        x = mm1(n, 9, 10)\n",
    "        mser5yList = mser5y(n, x)\n",
    "\n",
    "    print('Encontrou o fim do transiente...')\n",
    "    print('Eliminando as observações do estado transiente...')\n",
    "    print('Tamanho de M/M/1 final:', len(x))\n",
    "    pontoTruc = mser5yList * 5\n",
    "    print(f'Encontrou-se o ponto de truncagem. Na posição {pontoTruc} da fila')\n",
    "    #eliminando transiente\n",
    "    while i < pontoTruc:\n",
    "        del x[0]\n",
    "        i +=1\n",
    "\n",
    "    print('Tamanho de M/M/1 após o corte: ', len(x), '\\nAgora está no estado estacionario.\\n')\n",
    "    \n",
    "    wbarra = sum(x)/len(x)\n",
    "    print('Wbarra: ', wbarra)\n",
    "    \n",
    "    z = 1.96 * desPadrao(x)/mt.sqrt(n)\n",
    "    \n",
    "    interaloPositivo = wbarra + z\n",
    "    interaloNegativo = wbarra - z\n",
    "    \n",
    "    print(f'Intervalo de confiança: ({interaloPositivo}, {interaloNegativo})', )\n",
    "    \n",
    "    return wbarra"
   ]
  },
  {
   "cell_type": "code",
   "execution_count": 117,
   "id": "55098d49",
   "metadata": {},
   "outputs": [
    {
     "name": "stdout",
     "output_type": "stream",
     "text": [
      "Encontrou o fim do transiente...\n",
      "Eliminando as observações do estado transiente...\n",
      "Tamanho de M/M/1 final: 1000\n",
      "Encontrou-se o ponto de truncagem. Na posição 470 da fila\n",
      "Tamanho de M/M/1 após o corte:  530 \n",
      "Agora está no estado estacionario.\n",
      "\n",
      "Wbarra:  0.2976907919512997\n",
      "Intervalo de confiança: (0.3161648360044536, 0.2792167478981458)\n",
      "Ainda não se encontrou o ponto de truncagem.\n",
      "\n",
      "A coletar mais informações até que se encontre...\n",
      "Ainda não se encontrou o ponto de truncagem.\n",
      "\n",
      "A coletar mais informações até que se encontre...\n",
      "Ainda não se encontrou o ponto de truncagem.\n",
      "\n",
      "A coletar mais informações até que se encontre...\n",
      "Ainda não se encontrou o ponto de truncagem.\n",
      "\n",
      "A coletar mais informações até que se encontre...\n",
      "Ainda não se encontrou o ponto de truncagem.\n",
      "\n",
      "A coletar mais informações até que se encontre...\n",
      "Ainda não se encontrou o ponto de truncagem.\n",
      "\n",
      "A coletar mais informações até que se encontre...\n",
      "Ainda não se encontrou o ponto de truncagem.\n",
      "\n",
      "A coletar mais informações até que se encontre...\n",
      "Ainda não se encontrou o ponto de truncagem.\n",
      "\n",
      "A coletar mais informações até que se encontre...\n",
      "Encontrou o fim do transiente...\n",
      "Eliminando as observações do estado transiente...\n",
      "Tamanho de M/M/1 final: 26100\n",
      "Encontrou-se o ponto de truncagem. Na posição 425 da fila\n",
      "Tamanho de M/M/1 após o corte:  25675 \n",
      "Agora está no estado estacionario.\n",
      "\n",
      "Wbarra:  0.776361199058893\n",
      "Intervalo de confiança: (0.7873137140845274, 0.7654086840332586)\n",
      "Ainda não se encontrou o ponto de truncagem.\n",
      "\n",
      "A coletar mais informações até que se encontre...\n",
      "Encontrou o fim do transiente...\n",
      "Eliminando as observações do estado transiente...\n",
      "Tamanho de M/M/1 final: 12200\n",
      "Encontrou-se o ponto de truncagem. Na posição 505 da fila\n",
      "Tamanho de M/M/1 após o corte:  11695 \n",
      "Agora está no estado estacionario.\n",
      "\n",
      "Wbarra:  0.9576785710824414\n",
      "Intervalo de confiança: (0.9744416841267768, 0.940915458038106)\n",
      "Ainda não se encontrou o ponto de truncagem.\n",
      "\n",
      "A coletar mais informações até que se encontre...\n",
      "Encontrou o fim do transiente...\n",
      "Eliminando as observações do estado transiente...\n",
      "Tamanho de M/M/1 final: 12300\n",
      "Encontrou-se o ponto de truncagem. Na posição 1905 da fila\n",
      "Tamanho de M/M/1 após o corte:  10395 \n",
      "Agora está no estado estacionario.\n",
      "\n",
      "Wbarra:  0.6972492483469545\n",
      "Intervalo de confiança: (0.7114081172773207, 0.6830903794165882)\n",
      "Ainda não se encontrou o ponto de truncagem.\n",
      "\n",
      "A coletar mais informações até que se encontre...\n",
      "Ainda não se encontrou o ponto de truncagem.\n",
      "\n",
      "A coletar mais informações até que se encontre...\n",
      "Ainda não se encontrou o ponto de truncagem.\n",
      "\n",
      "A coletar mais informações até que se encontre...\n",
      "Encontrou o fim do transiente...\n",
      "Eliminando as observações do estado transiente...\n",
      "Tamanho de M/M/1 final: 16400\n",
      "Encontrou-se o ponto de truncagem. Na posição 1300 da fila\n",
      "Tamanho de M/M/1 após o corte:  15100 \n",
      "Agora está no estado estacionario.\n",
      "\n",
      "Wbarra:  0.9501844488953644\n",
      "Intervalo de confiança: (0.9662262469271398, 0.9341426508635889)\n",
      "Encontrou o fim do transiente...\n",
      "Eliminando as observações do estado transiente...\n",
      "Tamanho de M/M/1 final: 10500\n",
      "Encontrou-se o ponto de truncagem. Na posição 705 da fila\n",
      "Tamanho de M/M/1 após o corte:  9795 \n",
      "Agora está no estado estacionario.\n",
      "\n",
      "Wbarra:  0.8556075800218479\n",
      "Intervalo de confiança: (0.8710128999611253, 0.8402022600825705)\n"
     ]
    }
   ],
   "source": [
    "pontosY = [truncagem(1000), truncagem(10100), \n",
    "           truncagem(10200), truncagem(10300),\n",
    "          truncagem(10400), truncagem(10500)]"
   ]
  },
  {
   "cell_type": "code",
   "execution_count": 105,
   "id": "ef258a07",
   "metadata": {},
   "outputs": [],
   "source": [
    "def E(): # calculo do valor teorico\n",
    "    e = 10*((1/9)/(1-10))\n",
    "    return e"
   ]
  },
  {
   "cell_type": "code",
   "execution_count": 106,
   "id": "2099946b",
   "metadata": {},
   "outputs": [
    {
     "name": "stdout",
     "output_type": "stream",
     "text": [
      "[0.8765432098765432, 1.876543209876543, 2.876543209876543, 3.876543209876543, 4.8765432098765435, 5.8765432098765435]\n"
     ]
    }
   ],
   "source": [
    "valorTeorico = E()\n",
    "pontosX = [valorTeorico+(i+1) for i in range(6)]\n",
    "print(pontosX)"
   ]
  },
  {
   "cell_type": "code",
   "execution_count": 107,
   "id": "6add6a6f",
   "metadata": {},
   "outputs": [
    {
     "data": {
      "image/png": "[encoded data removed]",
      "text/plain": [
       "<Figure size 1080x504 with 1 Axes>"
      ]
     },
     "metadata": {
      "needs_background": "light"
     },
     "output_type": "display_data"
    }
   ],
   "source": [
    "plt.figure(figsize=(15,7))\n",
    "\n",
    "plt.title(' W em função de N', fontsize=26)\n",
    "plt.xlabel('N', fontsize=20)\n",
    "plt.ylabel('Valor Teorico', fontsize=20)\n",
    "\n",
    "plt.plot(pontosX, pontosY, '--')\n",
    "plt.show()"
   ]
  },
  {
   "cell_type": "markdown",
   "id": "8e071c5d",
   "metadata": {},
   "source": [
    "Ao rodar uma simulação onde as variaveis são bem distribuidas e com valor teorico aumentando há uma queda no tempo de serviço na fila, resultando no grafico acima."
   ]
  },
  {
   "cell_type": "code",
   "execution_count": null,
   "id": "a0be3707",
   "metadata": {},
   "outputs": [],
   "source": []
  }
 ],
 "metadata": {
  "kernelspec": {
   "display_name": "Python 3 (ipykernel)",
   "language": "python",
   "name": "python3"
  },
  "language_info": {
   "codemirror_mode": {
    "name": "ipython",
    "version": 3
   },
   "file_extension": ".py",
   "mimetype": "text/x-python",
   "name": "python",
   "nbconvert_exporter": "python",
   "pygments_lexer": "ipython3",
   "version": "3.8.10"
  }
 },
 "nbformat": 4,
 "nbformat_minor": 5
}
