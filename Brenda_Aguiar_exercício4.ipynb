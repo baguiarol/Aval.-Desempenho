{
 "cells": [
  {
   "cell_type": "markdown",
   "id": "08b950dc",
   "metadata": {},
   "source": [
    "* Repita o exercício 2 mas, em vez de parar a simulação depois de gerar N clientes, a simulação vai parar aplicando a regra do tamanho relativo do intervalo de confiança.\n",
    "\n",
    "\n",
    "* Para isso, n vai crescer indefinidamente. Calcular   Wbarra   e o intervalo de confiança de 95%.\n",
    "\n",
    "Se H/Wbarra <= 0,05, parar a simulação, anotar o valor de Wbarra, H e o valor de N.\n",
    "\n",
    "* Caso contrário, a simulação continua. "
   ]
  },
  {
   "cell_type": "code",
   "execution_count": 45,
   "id": "23a2254d",
   "metadata": {},
   "outputs": [],
   "source": [
    "import random                      \n",
    "import simpy # biblioteca de simulação\n",
    "import math as mt\n",
    "from tqdm import tqdm\n",
    "import statistics as ss\n",
    "import scipy.stats as st\n",
    "import matplotlib.pyplot as plt\n",
    "import numpy as np"
   ]
  },
  {
   "cell_type": "code",
   "execution_count": 46,
   "id": "25c5a99d",
   "metadata": {},
   "outputs": [],
   "source": [
    "taxaEntrada = 9           # taxa de entrada: λ=9 clientes por segundo. \n",
    "taxaServico = 10          # taxa de serviço: μ=10 clientes por segundo."
   ]
  },
  {
   "cell_type": "code",
   "execution_count": 47,
   "id": "8f1ab5dd",
   "metadata": {},
   "outputs": [],
   "source": [
    "def media(lista):\n",
    "    soma = 0\n",
    "    for i in range(len(lista)):\n",
    "        soma += lista[i]\n",
    "    return soma/len(lista)\n",
    "\n",
    "def varAmostral(lista):\n",
    "    m = media(lista)\n",
    "    soma = 0\n",
    "    for i in range(len(lista)):\n",
    "        soma += (lista[i]-m)**2\n",
    "    return soma/(len(lista)-1)\n",
    "      \n",
    "def desPadrao(lista):\n",
    "    dp = mt.sqrt(varAmostral(lista))\n",
    "    return dp\n",
    "\n",
    "def exponencial(b):\n",
    "    u = random.random()\n",
    "    x = -b * mt.log(1-u)\n",
    "\n",
    "    return(x)"
   ]
  },
  {
   "cell_type": "code",
   "execution_count": 48,
   "id": "2a12653f",
   "metadata": {},
   "outputs": [],
   "source": [
    "def tempoQuantiMedia(quanti, media):\n",
    "    return [-(1/media) *  np.log(1 - np.random.uniform(0,1)) for _ in range(quanti-1)]"
   ]
  },
  {
   "cell_type": "code",
   "execution_count": 49,
   "id": "356fba54",
   "metadata": {},
   "outputs": [],
   "source": [
    "def mm1(n, lamb, mi):\n",
    "    medioEsperaFila = tempoQuantiMedia(n, lamb)\n",
    "    servicos = tempoQuantiMedia(n, mi)\n",
    "    filaEsperas = [0]\n",
    "    espera = 0\n",
    "    i = 0\n",
    "    while i < len(medioEsperaFila):\n",
    "        servicoCompleto = servicos[i] + filaEsperas[-1]\n",
    "        if (medioEsperaFila[i] <= servicoCompleto):\n",
    "             espera = (servicos[i] - medioEsperaFila[i]) + filaEsperas[-1]\n",
    "        else:\n",
    "             espera = 0\n",
    "        filaEsperas.append(espera)\n",
    "        i+=1\n",
    "    return filaEsperas"
   ]
  },
  {
   "cell_type": "code",
   "execution_count": 50,
   "id": "7c8f5b51",
   "metadata": {},
   "outputs": [],
   "source": [
    "def mser5y(nClientes, x):\n",
    "    auxList = []\n",
    "    aux = 0\n",
    "    z = []\n",
    "    i = j =0\n",
    "    while i < nClientes:\n",
    "        while j < 5:\n",
    "            auxList.append(x[i])\n",
    "            i +=1\n",
    "            j +=1\n",
    "        z.append(media(auxList))\n",
    "        auxList.clear()\n",
    "        j=0\n",
    "    mser5yList = []\n",
    "    k = nClientes/5\n",
    "    meio = k/2\n",
    "    d = 0\n",
    "    while d < meio:\n",
    "        desvpZ = ss.fmean(z)\n",
    "        aux = desvpZ / mt.sqrt(k-d)\n",
    "        mser5yList.append(aux)\n",
    "        d += 1\n",
    "        del z[0]\n",
    "    menor = min(mser5yList)              \n",
    "    posicao = mser5yList.index(menor)\n",
    "    return posicao"
   ]
  },
  {
   "cell_type": "code",
   "execution_count": 51,
   "id": "c6848136",
   "metadata": {},
   "outputs": [],
   "source": [
    "def batchmeans (lista, b, m): #funcao: lista dos elementos no estado estacionário, b = blocos, m = tamanho dos blocos\n",
    "    n = b*m         #total de observações\n",
    "    i = 0\n",
    "    j = 0\n",
    "    listaux = []\n",
    "    listaMedias = []\n",
    "    while i < n:\n",
    "        while j < m:\n",
    "            listaux.append(lista[i])\n",
    "            i += 1\n",
    "            j += 1\n",
    "        aux = ss.mean(listaux)\n",
    "        listaMedias.append(aux)     #lista com as médias dos blocos\n",
    "        j = 0\n",
    "        listaux.clear()\n",
    "    return(listaMedias)"
   ]
  },
  {
   "cell_type": "code",
   "execution_count": 52,
   "id": "713e8457",
   "metadata": {},
   "outputs": [],
   "source": [
    "def ranking (lista):    #cria lista de rankings \n",
    "    lranking = []\n",
    "    i = 0\n",
    "    l = 0\n",
    "    soma = 0\n",
    "    while l < len(lista):\n",
    "        while i < len(lista):\n",
    "            if lista[i] <= lista[l]:\n",
    "                soma += 1\n",
    "            i += 1\n",
    "        lranking.append(soma)\n",
    "        soma = 0\n",
    "        i = 0\n",
    "        l += 1\n",
    "    return(lranking)\n"
   ]
  },
  {
   "cell_type": "code",
   "execution_count": 53,
   "id": "250bc7c4",
   "metadata": {},
   "outputs": [],
   "source": [
    "def estatisticaVN(lista):\n",
    "    tf = (len(lista) - 1) #B-1\n",
    "    i = 0\n",
    "    somatorio1 = 0\n",
    "    somatorio2 = 0\n",
    "\n",
    "    while i < tf:\n",
    "        sub = lista[i] - lista[i+1]\n",
    "        somatorio1 += mt.pow(sub, 2)\n",
    "        i += 1\n",
    "\n",
    "    mediaR = ss.mean(lista)\n",
    "    i = 0\n",
    "    while i < len(lista): #B\n",
    "        sub = lista[i] - mediaR\n",
    "        somatorio2 += mt.pow(sub, 2)\n",
    "        i += 1 \n",
    "    rvn = somatorio1 / somatorio2\n",
    "    return(rvn)"
   ]
  },
  {
   "cell_type": "code",
   "execution_count": 57,
   "id": "4f8dbf56",
   "metadata": {},
   "outputs": [],
   "source": [
    "def sts (lista, b, m):\n",
    "    n = b*m\n",
    "    i = 0\n",
    "    j = 0\n",
    "    listaux = []\n",
    "    listaA = []\n",
    "\n",
    "    while i < n:\n",
    "        while j < m:\n",
    "            aux = lista[i]\n",
    "            mult = ((m + 1)/2) - (j+1)\n",
    "            listaux.append(mult*aux)\n",
    "            i += 1\n",
    "            j += 1\n",
    "        \n",
    "        soma = sum(listaux)\n",
    "        listaA.append(soma) \n",
    "        j = 0\n",
    "        listaux.clear()\n",
    "\n",
    "    return(listaA)"
   ]
  },
  {
   "cell_type": "code",
   "execution_count": 58,
   "id": "7ee08edf",
   "metadata": {},
   "outputs": [],
   "source": [
    "def E(taxaEntrada, taxaServico):\n",
    "    p = taxaEntrada/taxaServico\n",
    "    e = p*((1/taxaServico)/(1-p))\n",
    "    return e"
   ]
  },
  {
   "cell_type": "code",
   "execution_count": 59,
   "id": "b5211352",
   "metadata": {},
   "outputs": [],
   "source": [
    "def truncagem(nClientes):\n",
    "    i =0\n",
    "    b = 20\n",
    "    m = 100\n",
    "    n = nClientes\n",
    "    x = mm1(n, 9, 10) # 10^5\n",
    "    mser5yList =  mser5y(n, x)\n",
    "\n",
    "    while mser5yList == 0:\n",
    "        print('Ainda não se encontrou o ponto de truncagem.\\n')\n",
    "        print('A coletar mais informações até que se encontre...')\n",
    "        n += 2000  \n",
    "        x = mm1(n, 9, 10)\n",
    "        mser5yList = mser5y(n, x)\n",
    "\n",
    "    print('Encontrou o fim do transiente...')\n",
    "    print('Eliminando as observações do estado transiente...')\n",
    "    print('Tamanho de M/M/1 final:', len(x))\n",
    "    pontoTruc = mser5yList * 5\n",
    "    print(f'Encontrou-se o ponto de truncagem. Na posição {pontoTruc} da fila')\n",
    "    #eliminando transiente\n",
    "    while i < pontoTruc:\n",
    "        del x[0]\n",
    "        i +=1\n",
    "\n",
    "    print('Tamanho de M/M/1 após o corte: ', len(x), '\\nAgora está no estado estacionario.\\n')\n",
    "    n = b*m\n",
    "    coletaobs = []\n",
    "    i = 0\n",
    "    while i < n:   \n",
    "        coletaobs.append(x[i])\n",
    "        i += 1\n",
    "    batch = batchmeans(coletaobs, b, m)\n",
    "    rank = ranking(batch)\n",
    "    rvn = estatisticaVN(rank)\n",
    "    \n",
    "    valorWbarra = ss.mean(coletaobs)\n",
    "    tstudent = list(st.t.interval(1-(0.01/2), b-1))\n",
    "    t = tstudent[1]\n",
    "    lsts = sts(coletaobs, b, m)\n",
    "    soma = 0\n",
    "    for l in lsts:\n",
    "        soma += mt.pow(l, 2)\n",
    "    vt = (12/(mt.pow(m, 3) - m)) * soma\n",
    "    h = t * mt.sqrt(vt/n)\n",
    "    \n",
    "    while (h/valorWbarra) <= 0.05:\n",
    "        m += 10\n",
    "        temp = len(coletaobs)\n",
    "\n",
    "        while len(coletaobs) < (b*m):\n",
    "            coletaobs.append(x[temp])\n",
    "            temp += 1\n",
    "\n",
    "        lsts = sts(coletaobs, b, m)\n",
    "        valorWbarra = ss.mean(coletaobs)\n",
    "        tstudent = list(st.t.interval(1-(0.01/2), b-1))\n",
    "        t = tstudent[1]\n",
    "\n",
    "        soma = 0\n",
    "        for l in lsts:\n",
    "            soma += mt.pow(l, 2)\n",
    "\n",
    "        vt = (12/(mt.pow(m, 3) - m)) * soma\n",
    "        h = t * mt.sqrt(vt/n)\n",
    "    return(valorWbarra, h, n)\n"
   ]
  },
  {
   "cell_type": "code",
   "execution_count": 61,
   "id": "574fc67a",
   "metadata": {},
   "outputs": [
    {
     "name": "stdout",
     "output_type": "stream",
     "text": [
      "Ainda não se encontrou o ponto de truncagem.\n",
      "\n",
      "A coletar mais informações até que se encontre...\n",
      "Ainda não se encontrou o ponto de truncagem.\n",
      "\n",
      "A coletar mais informações até que se encontre...\n",
      "Ainda não se encontrou o ponto de truncagem.\n",
      "\n",
      "A coletar mais informações até que se encontre...\n",
      "Encontrou o fim do transiente...\n",
      "Eliminando as observações do estado transiente...\n",
      "Tamanho de M/M/1 final: 16000\n",
      "Encontrou-se o ponto de truncagem. Na posição 1945 da fila\n",
      "Tamanho de M/M/1 após o corte:  14055 \n",
      "Agora está no estado estacionario.\n",
      "\n"
     ]
    }
   ],
   "source": [
    "v1, v2, v3 = truncagem(10000)"
   ]
  },
  {
   "cell_type": "code",
   "execution_count": 63,
   "id": "a0be3707",
   "metadata": {},
   "outputs": [
    {
     "name": "stdout",
     "output_type": "stream",
     "text": [
      " Wbarra = 0.4813863145792686 H = 0.566681311530511 e o valor de N = 2000.\n"
     ]
    }
   ],
   "source": [
    "print(f' Wbarra = {v1} H = {v2} e o valor de N = {v3}.')"
   ]
  },
  {
   "cell_type": "code",
   "execution_count": null,
   "id": "2bfa2e63",
   "metadata": {},
   "outputs": [],
   "source": []
  }
 ],
 "metadata": {
  "kernelspec": {
   "display_name": "Python 3 (ipykernel)",
   "language": "python",
   "name": "python3"
  },
  "language_info": {
   "codemirror_mode": {
    "name": "ipython",
    "version": 3
   },
   "file_extension": ".py",
   "mimetype": "text/x-python",
   "name": "python",
   "nbconvert_exporter": "python",
   "pygments_lexer": "ipython3",
   "version": "3.8.10"
  }
 },
 "nbformat": 4,
 "nbformat_minor": 5
}
