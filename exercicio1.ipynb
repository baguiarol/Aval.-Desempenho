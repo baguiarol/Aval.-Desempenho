{
 "cells": [
  {
   "cell_type": "markdown",
   "id": "c6646f54",
   "metadata": {},
   "source": [
    "# Avaliação de Desempenho\n",
    "\n",
    "## Atividades da aula do dia 31/01/2021 (até o slide 25)"
   ]
  },
  {
   "cell_type": "code",
   "execution_count": 22,
   "id": "c083d30a",
   "metadata": {},
   "outputs": [],
   "source": [
    "import matplotlib.pyplot as plt\n",
    "#!pip install -U prettytable\n",
    "from prettytable import PrettyTable\n",
    "import numpy as np"
   ]
  },
  {
   "cell_type": "markdown",
   "id": "282e41fb",
   "metadata": {},
   "source": [
    "Encontrar a distribuição de frequência para estudantes de uma turma\n",
    "de ICC. Construa um histograma para representar graficamente a\n",
    "distribuição."
   ]
  },
  {
   "cell_type": "code",
   "execution_count": 23,
   "id": "f827c79e",
   "metadata": {},
   "outputs": [],
   "source": [
    " estudantes = [59, 61, 74, 84, 86, 75, 96, 92, 53, 66, \n",
    "               58, 49, 71, 72, 73, 66, 91, 68, 79, 79,\n",
    "               64, 84, 86, 79, 88, 59, 98, 82, 69, 75,\n",
    "               84, 61, 92, 84, 82, 62, 61, 88, 74, 58]\n",
    "qtd_turmas = len(estudantes)\n",
    "# print(qtd_turmas)"
   ]
  },
  {
   "cell_type": "code",
   "execution_count": 62,
   "id": "a37f1c5e",
   "metadata": {},
   "outputs": [
    {
     "name": "stdout",
     "output_type": "stream",
     "text": [
      "Maior valor: 98\n",
      "Menor valor: 49\n",
      "Amplitude da variação dos estudantes:  49\n"
     ]
    }
   ],
   "source": [
    "#A primeira coisa pra deixar tudo mais organizado, \n",
    "#é organizar os dados em ordem crescente.\n",
    "estudantes.sort()\n",
    "# print(estudantes)\n",
    "\n",
    "print(\"Maior valor:\", max(estudantes))\n",
    "print(\"Menor valor:\",min(estudantes))\n",
    "\n",
    "#amplitude da variação dos estudantes \n",
    "\n",
    "amp = max(estudantes) - min(estudantes)\n",
    "print(\"Amplitude da variação dos estudantes: \", amp)"
   ]
  },
  {
   "cell_type": "code",
   "execution_count": 56,
   "id": "de226055",
   "metadata": {},
   "outputs": [],
   "source": [
    "\n",
    "#remove os repetidos da lista de estudantes\n",
    "def remove_repetidos(lista):\n",
    "    l = []\n",
    "    for i in lista:\n",
    "        if i not in l:\n",
    "            l.append(i)\n",
    "    l.sort()\n",
    "    return l\n",
    "\n",
    "lista_estudantes = remove_repetidos(estudantes)\n",
    "\n",
    "#quantas vezes cada turma de estudantes aparece na tabela do Rol\n",
    "def conta_repetidos(estudantes):\n",
    "    fi = []\n",
    "    for i in range(len(lista_estudantes)):\n",
    "        fi.append(estudantes.count(estudantes[i]))\n",
    "    return fi\n",
    "\n",
    "#tira a proporcao e a porcentagem\n",
    "def proporcao_fi(lista, total_turmas):\n",
    "    proporcao = []\n",
    "    proporcao_por = []\n",
    "    for i in range(len(lista)):\n",
    "        proporcao.append(round(lista[i]/total_turmas, 3))\n",
    "        proporcao_por.append(round(proporcao[i]*100,1))\n",
    "    return proporcao, proporcao_por\n"
   ]
  },
  {
   "cell_type": "code",
   "execution_count": 57,
   "id": "ae60e2da",
   "metadata": {},
   "outputs": [],
   "source": [
    "turmas = conta_repetidos(estudantes)\n",
    "total_turmas = sum(turmas)\n",
    "proporcao, proporcao_por = proporcao_fi(turmas, total_turmas)\n",
    "\n",
    "# print(turmas)\n",
    "# print(lista_estudantes)\n",
    "#print(proporcao)\n"
   ]
  },
  {
   "cell_type": "code",
   "execution_count": 60,
   "id": "6fa4ef72",
   "metadata": {},
   "outputs": [],
   "source": [
    "x = PrettyTable()\n",
    "x.add_column(\"Qtd de Estudantes por Turma\", lista_estudantes)\n",
    "x.add_column(\"Frequencia Turma de ICC\", turmas)\n",
    "x.add_column(\"Proporção fi\", proporcao)\n",
    "x.add_column(\"Proporção 100fi\", proporcao_por)"
   ]
  },
  {
   "cell_type": "markdown",
   "id": "b50c4e67",
   "metadata": {},
   "source": []
  },
  {
   "cell_type": "code",
   "execution_count": 69,
   "id": "dbd970ef",
   "metadata": {},
   "outputs": [
    {
     "name": "stdout",
     "output_type": "stream",
     "text": [
      "   ************************* Distribuição de Frequencia *************************\n",
      "+-----------------------------+-------------------------+--------------+-----------------+\n",
      "| Qtd de Estudantes por Turma | Frequencia Turma de ICC | Proporção fi | Proporção 100fi |\n",
      "+-----------------------------+-------------------------+--------------+-----------------+\n",
      "|              49             |            1            |    0.023     |       2.3       |\n",
      "|              53             |            1            |    0.023     |       2.3       |\n",
      "|              58             |            2            |    0.045     |       4.5       |\n",
      "|              59             |            2            |    0.045     |       4.5       |\n",
      "|              61             |            2            |    0.045     |       4.5       |\n",
      "|              62             |            2            |    0.045     |       4.5       |\n",
      "|              64             |            3            |    0.068     |       6.8       |\n",
      "|              66             |            3            |    0.068     |       6.8       |\n",
      "|              68             |            3            |    0.068     |       6.8       |\n",
      "|              69             |            1            |    0.023     |       2.3       |\n",
      "|              71             |            1            |    0.023     |       2.3       |\n",
      "|              72             |            2            |    0.045     |       4.5       |\n",
      "|              73             |            2            |    0.045     |       4.5       |\n",
      "|              74             |            1            |    0.023     |       2.3       |\n",
      "|              75             |            1            |    0.023     |       2.3       |\n",
      "|              79             |            1            |    0.023     |       2.3       |\n",
      "|              82             |            1            |    0.023     |       2.3       |\n",
      "|              84             |            1            |    0.023     |       2.3       |\n",
      "|              86             |            2            |    0.045     |       4.5       |\n",
      "|              88             |            2            |    0.045     |       4.5       |\n",
      "|              91             |            2            |    0.045     |       4.5       |\n",
      "|              92             |            2            |    0.045     |       4.5       |\n",
      "|              96             |            3            |    0.068     |       6.8       |\n",
      "|              98             |            3            |    0.068     |       6.8       |\n",
      "+-----------------------------+-------------------------+--------------+-----------------+\n"
     ]
    }
   ],
   "source": [
    "print(\"   ************************* Distribuição de Frequencia *************************\")\n",
    "\n",
    "print(x)"
   ]
  },
  {
   "cell_type": "code",
   "execution_count": 64,
   "id": "1138e753",
   "metadata": {},
   "outputs": [
    {
     "data": {
      "image/png": "[encoded data removed]",
      "text/plain": [
       "<Figure size 432x288 with 1 Axes>"
      ]
     },
     "metadata": {
      "needs_background": "light"
     },
     "output_type": "display_data"
    }
   ],
   "source": [
    "plt.title('Estudantes de uma turma de ICC', fontsize=15)\n",
    "plt.xlabel('Estudantes', fontsize=15)\n",
    "plt.ylabel('Frequência fi', fontsize=15)\n",
    "plt.hist(estudantes, 10, rwidth=0.9, color='red', alpha=0.7, edgecolor='black')\n",
    "plt.show()"
   ]
  },
  {
   "cell_type": "markdown",
   "id": "88a7e133",
   "metadata": {},
   "source": [
    "Um homem precisava fazer um reparo e comprou 80m de arame\n",
    "por R$ 40,00. Um tempo depois, ele precisou comprar mais 40m e\n",
    "pagou R$ 45,00. Posteriormente, comprou mais 12m por R$ 50,00.\n",
    "Quanto ele pagou, em média, por cada metro de arame?\n",
    "R:"
   ]
  },
  {
   "cell_type": "code",
   "execution_count": 73,
   "id": "b7d04140",
   "metadata": {},
   "outputs": [
    {
     "name": "stdout",
     "output_type": "stream",
     "text": [
      "Ele pagou em media por cada metros de arame: 41.48 reais\n"
     ]
    }
   ],
   "source": [
    "a = (80*40)+(40*45)+(12*50)\n",
    "b = 40 + 45 + 50\n",
    "\n",
    "m = a/b\n",
    "print(\"Ele pagou em media por cada metros de arame:\", round(m,2), \"reais\")"
   ]
  }
 ],
 "metadata": {
  "kernelspec": {
   "display_name": "Python 3 (ipykernel)",
   "language": "python",
   "name": "python3"
  },
  "language_info": {
   "codemirror_mode": {
    "name": "ipython",
    "version": 3
   },
   "file_extension": ".py",
   "mimetype": "text/x-python",
   "name": "python",
   "nbconvert_exporter": "python",
   "pygments_lexer": "ipython3",
   "version": "3.8.10"
  }
 },
 "nbformat": 4,
 "nbformat_minor": 5
}
