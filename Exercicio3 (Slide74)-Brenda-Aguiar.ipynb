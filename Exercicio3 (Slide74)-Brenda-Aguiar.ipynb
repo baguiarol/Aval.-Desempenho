{
 "cells": [
  {
   "cell_type": "markdown",
   "id": "0c8b8e37",
   "metadata": {},
   "source": [
    "# Avaliação de Desempenho\n",
    "\n",
    "## Atividades da aula do dia 07/02/2022 (até o slide 74)"
   ]
  },
  {
   "cell_type": "markdown",
   "id": "86c91207",
   "metadata": {},
   "source": [
    "### Aluna: Brenda Aguiar"
   ]
  },
  {
   "cell_type": "code",
   "execution_count": 2,
   "id": "ce50bd68",
   "metadata": {},
   "outputs": [],
   "source": [
    "import math as mt\n",
    "import numpy as np\n",
    "import scipy.stats\n",
    "import pandas as pd\n",
    "import matplotlib.pyplot as plt"
   ]
  },
  {
   "cell_type": "code",
   "execution_count": 21,
   "id": "78a5e661",
   "metadata": {},
   "outputs": [],
   "source": [
    "def media(lista):\n",
    "    soma = 0\n",
    "    for i in range(len(lista)):\n",
    "        soma += lista[i]\n",
    "    return soma/len(lista)\n",
    "\n",
    "def varAmostral(lista):\n",
    "    m = media(lista)\n",
    "    soma = 0\n",
    "    for i in range(len(lista)):\n",
    "        soma += (lista[i]-m)**2\n",
    "    return soma/(len(lista)-1)\n",
    "      \n",
    "def desPadrao(lista):\n",
    "    dp = mt.sqrt(varAmostral(lista))\n",
    "    return dp"
   ]
  },
  {
   "cell_type": "markdown",
   "id": "7f35dbd2",
   "metadata": {},
   "source": [
    "Construir um IC com níveis de confiança de 90%, 95% e 99%, para os seguintes dados coletados em um experimento:\n",
    "\n",
    "177 122 128 191 180 142 197 196 67 160 167 138 107 188 102 116 138 114 188 176 148 175 169 203 135 142 168 181 168 150 132 196 88 177 164 118 178 102 156 114"
   ]
  },
  {
   "cell_type": "code",
   "execution_count": 22,
   "id": "97307846",
   "metadata": {},
   "outputs": [
    {
     "name": "stdout",
     "output_type": "stream",
     "text": [
      "[67, 88, 102, 102, 107, 114, 114, 116, 118, 122, 128, 132, 135, 138, 138, 142, 142, 148, 150, 156, 160, 164, 167, 168, 168, 169, 175, 176, 177, 177, 178, 180, 181, 188, 188, 191, 196, 196, 197, 203]\n",
      "Media: 151.45\n",
      "Desvio padrão: 33.95619349872828\n"
     ]
    }
   ],
   "source": [
    "experimento = [177, 122, 128, 191, 180, 142, 197, 196, 67, \n",
    "               160, 167, 138, 107, 188, 102, 116, 138, 114, \n",
    "               188, 176, 148, 175, 169, 203, 135, 142, 168, \n",
    "               181, 168, 150, 132, 196, 88, 177, 164, 118, \n",
    "               178, 102, 156, 114]\n",
    "experimento.sort()\n",
    "\n",
    "print(experimento)\n",
    "\n",
    "m = media(experimento)  \n",
    "print(f'Media: {m}')\n",
    "\n",
    "dp = desPadrao(experimento)\n",
    "print(f'Desvio padrão: {dp}')\n",
    " \n",
    "#intervalo de confiança 90%\n",
    "conf_int90 = scipy.stats.norm.interval(0.90, loc=m, scale=dp) \n",
    "\n",
    "#intervalo de confiança 90%\n",
    "conf_int95 = scipy.stats.norm.interval(0.95, loc=m, scale=dp) \n",
    "\n",
    "#intervalo de confiança 90%\n",
    "conf_int99 = scipy.stats.norm.interval(0.99, loc=m, scale=dp) "
   ]
  },
  {
   "cell_type": "code",
   "execution_count": 23,
   "id": "746aa85d",
   "metadata": {},
   "outputs": [
    {
     "name": "stdout",
     "output_type": "stream",
     "text": [
      "Um intervalo de confiança de 90% para a média com base em seus dados foi (95.59703196615075, 207.3029680338492)\n",
      "Com base nesse intervalo, os valores estão dentro do IC.\n"
     ]
    }
   ],
   "source": [
    "print(f'Um intervalo de confiança de 90% para a média com base em seus dados foi {conf_int90}')\n",
    "print(f'Com base nesse intervalo, os valores estão dentro do IC.')"
   ]
  },
  {
   "cell_type": "code",
   "execution_count": 24,
   "id": "8bace529",
   "metadata": {},
   "outputs": [
    {
     "name": "stdout",
     "output_type": "stream",
     "text": [
      "Um intervalo de confiança de 95% para a média com base em seus dados foi (84.89708369041942, 218.00291630958054)\n",
      "Com base nesse intervalo, um valor não está dentro do IC.\n"
     ]
    }
   ],
   "source": [
    "print(f'Um intervalo de confiança de 95% para a média com base em seus dados foi {conf_int95}')\n",
    "print(f'Com base nesse intervalo, um valor não está dentro do IC.')\n"
   ]
  },
  {
   "cell_type": "code",
   "execution_count": 25,
   "id": "0b2df3ca",
   "metadata": {},
   "outputs": [
    {
     "name": "stdout",
     "output_type": "stream",
     "text": [
      "Um intervalo de confiança de 99% para a média com base em seus dados foi (63.984641748999024, 238.91535825100095)\n",
      "Com base nesse intervalo, os valores estão dentro do IC\n"
     ]
    }
   ],
   "source": [
    "print(f'Um intervalo de confiança de 99% para a média com base em seus dados foi {conf_int99}')\n",
    "print(f'Com base nesse intervalo, os valores estão dentro do IC')"
   ]
  },
  {
   "cell_type": "markdown",
   "id": "eb8a9d1b",
   "metadata": {},
   "source": [
    "# #####################"
   ]
  },
  {
   "cell_type": "markdown",
   "id": "319a479a",
   "metadata": {},
   "source": [
    "Construir um IC com nível de confiança de 95%, para a seguinte\n",
    "amostra coletada em um experimento: "
   ]
  },
  {
   "cell_type": "code",
   "execution_count": 26,
   "id": "50c90079",
   "metadata": {},
   "outputs": [
    {
     "name": "stdout",
     "output_type": "stream",
     "text": [
      "Media: 0.0\n",
      "Media: 0.13669569958749356\n"
     ]
    }
   ],
   "source": [
    "vetor = [-0.04, -0.19, 0.14, -0.09, -0.14, 0.19, 0.04, 0.09]\n",
    "\n",
    "m = media(vetor)\n",
    "\n",
    "print(f'Media: {m}')\n",
    "\n",
    "dp = desPadrao(vetor)\n",
    "print(f'Media: {dp}')\n"
   ]
  },
  {
   "cell_type": "code",
   "execution_count": 32,
   "id": "3a4698d1",
   "metadata": {},
   "outputs": [
    {
     "name": "stdout",
     "output_type": "stream",
     "text": [
      "Um intervalo de confiança de 95% para a média com base em seus dados foi (-0.2679186480329941, 0.2679186480329941)\n",
      "Com base nesse intervalo, os valores estão dentro do IC\n"
     ]
    }
   ],
   "source": [
    "conf_int95 = scipy.stats.norm.interval(0.95, loc=m, scale=dp) \n",
    "print(f'Um intervalo de confiança de 95% para a média com base em seus dados foi {conf_int95}')\n",
    "print(f'Com base nesse intervalo, os valores estão dentro do IC')"
   ]
  },
  {
   "cell_type": "markdown",
   "id": "22eb10d8",
   "metadata": {},
   "source": [
    "# #####################"
   ]
  },
  {
   "cell_type": "markdown",
   "id": "dcee3c72",
   "metadata": {},
   "source": [
    "Dois sistemas (A e B) foram submetidos a seis cargas similares. As\n",
    "observações da métrica de interesse para os dois sistemas aparecem na\n",
    "tabela abaixo. Um dos sistemas é melhor que o outro? Argumente com\n",
    "base em um nível de confiança de 90%.\n",
    "\n",
    "\n"
   ]
  },
  {
   "cell_type": "code",
   "execution_count": 58,
   "id": "68b9fb48",
   "metadata": {},
   "outputs": [],
   "source": [
    "a = [5.4, 16.6, 0.6, 1.4, 0.6, 7.3]\n",
    "b = [19.1, 3.5, 3.4, 2.5, 3.6, 1.7]\n",
    "\n",
    "\n",
    "a.sort()\n",
    "\n",
    "b.sort()\n"
   ]
  },
  {
   "cell_type": "code",
   "execution_count": 59,
   "id": "bc956ec2",
   "metadata": {},
   "outputs": [
    {
     "name": "stdout",
     "output_type": "stream",
     "text": [
      "[0.6, 0.6, 1.4, 5.4, 7.3, 16.6]\n",
      "Media: 5.316666666666667\n",
      "Desvio padrão: 6.182043890710149\n",
      "Um intervalo de confiança de 90% para a média com base em seus dados foi (-4.851890648941116, 15.485223982274448)\n",
      "Com base nesse intervalo, o IC não cobre todos os valores (16.6).\n"
     ]
    }
   ],
   "source": [
    "print(a)\n",
    "mA = media(a)\n",
    "print(f'Media: {mA}')\n",
    "dpA = desPadrao(a)\n",
    "print(f'Desvio padrão: {dpA}')\n",
    "#intervalo de confiança 90% pra A\n",
    "conf_intA = scipy.stats.norm.interval(0.90, loc=mA, scale=dpA) \n",
    "\n",
    "print(f'Um intervalo de confiança de 90% para a média com base em seus dados foi {conf_intA}')\n",
    "print(f'Com base nesse intervalo, o IC não cobre todos os valores (16.6).')"
   ]
  },
  {
   "cell_type": "code",
   "execution_count": 60,
   "id": "2c5a62c8",
   "metadata": {},
   "outputs": [
    {
     "name": "stdout",
     "output_type": "stream",
     "text": [
      "[1.7, 2.5, 3.4, 3.5, 3.6, 19.1]\n",
      "Media: 5.633333333333333\n",
      "Desvio padrão: 6.637971577723625\n",
      "Um intervalo de confiança de 90% para a média com base em seus dados foi (-5.285158291886162, 16.55182495855282)\n",
      "Com base nesse intervalo, o IC não cobre todos os valores (19.1).\n"
     ]
    }
   ],
   "source": [
    "print(b)\n",
    "mB = media(b)\n",
    "print(f'Media: {mB}')\n",
    "dpB = desPadrao(b)\n",
    "print(f'Desvio padrão: {dpB}')\n",
    "#intervalo de confiança 90% pra B\n",
    "conf_intB = scipy.stats.norm.interval(0.90, loc=mB, scale=dpB)\n",
    "\n",
    "print(f'Um intervalo de confiança de 90% para a média com base em seus dados foi {conf_intB}')\n",
    "print(f'Com base nesse intervalo, o IC não cobre todos os valores (19.1).')"
   ]
  },
  {
   "cell_type": "markdown",
   "id": "15acffa2",
   "metadata": {},
   "source": [
    "**R: Portanto, com base em um nível de confiança de 90% o sistema A é melhor do que B, de acordo com a media e desvio padrão.**"
   ]
  },
  {
   "cell_type": "markdown",
   "id": "c86e7bda",
   "metadata": {},
   "source": [
    "# #####################"
   ]
  },
  {
   "cell_type": "markdown",
   "id": "30d2954d",
   "metadata": {},
   "source": [
    "A diferença de tempo de execução de duas implementações do mesmo\n",
    "algoritmo foi medida em sete cargas de trabalho semelhantes. As\n",
    "diferenças obtidas foram: {1,5; 2,6; -1,8; 1,3; -0,5; 1,7; 2,4}. Podemos\n",
    "dizer com 99% de confiança que uma implementação é superior à outra?\n",
    "\n",
    "**R: Sim. As sete cargas estão dentro do intervalo, por isso é possivel dizer que uma implementação é maior que a outra com 99% de confiança.**"
   ]
  },
  {
   "cell_type": "code",
   "execution_count": 45,
   "id": "02c02f40",
   "metadata": {},
   "outputs": [
    {
     "name": "stdout",
     "output_type": "stream",
     "text": [
      "[-1.8, -0.5, 1.3, 1.5, 1.7, 2.4, 2.6]\n",
      "intervalo de confiança 90%: (-3.10270944271826, 5.159852299861117)\n"
     ]
    }
   ],
   "source": [
    "a = [1.5, 2.6, -1.8, 1.3, -0.5, 1.7, 2.4]\n",
    "a.sort()\n",
    "print(a)\n",
    "\n",
    "mA = media(a)\n",
    "dpA = desPadrao(a)\n",
    "\n",
    "\n",
    "\n",
    "conf_intA = scipy.stats.norm.interval(0.99, loc=mA, scale=dpA) \n",
    "print(f'intervalo de confiança 90%: {conf_intA}')\n"
   ]
  },
  {
   "cell_type": "markdown",
   "id": "73a94cfc",
   "metadata": {},
   "source": [
    "# #####################"
   ]
  },
  {
   "cell_type": "markdown",
   "id": "6311491d",
   "metadata": {},
   "source": [
    "O tempo de processador consumido na execução de uma determinada\n",
    "aplicação foi medido em dois sistemas. Os tempos nos sistema A e B\n",
    "estão registrados na tabela a seguir. Podemos afirmar que os dois\n",
    "sistemas são significativamente diferentes? Utilizem 90%, 95% e 99%\n",
    "como nível de confiança."
   ]
  },
  {
   "cell_type": "code",
   "execution_count": 53,
   "id": "c0c7a24b",
   "metadata": {},
   "outputs": [],
   "source": [
    "a = [5.36, 16.57, 0.62, 1.41, 0.64, 7.76, 3.64, 2.48, 12.1]\n",
    "b = [19.12, 3.52, 3.38, 2.50, 3.60, 1.74]"
   ]
  },
  {
   "cell_type": "code",
   "execution_count": 54,
   "id": "fd6139d2",
   "metadata": {},
   "outputs": [
    {
     "name": "stdout",
     "output_type": "stream",
     "text": [
      "[0.62, 0.64, 1.41, 2.48, 3.64, 5.36, 7.76, 12.1, 16.57]\n",
      "Media: 5.620000000000001\n",
      "Desvio padrão: 5.566019672979966\n"
     ]
    }
   ],
   "source": [
    "a.sort()\n",
    "\n",
    "print(a)\n",
    "\n",
    "m = media(a)  \n",
    "print(f'Media: {m}')\n",
    "\n",
    "dp = desPadrao(a)\n",
    "print(f'Desvio padrão: {dp}')\n",
    " \n",
    "#intervalo de confiança 90%\n",
    "conf_int90 = scipy.stats.norm.interval(0.90, loc=m, scale=dp) \n",
    "\n",
    "#intervalo de confiança 90%\n",
    "conf_int95 = scipy.stats.norm.interval(0.95, loc=m, scale=dp) \n",
    "\n",
    "#intervalo de confiança 90%\n",
    "conf_int99 = scipy.stats.norm.interval(0.99, loc=m, scale=dp) "
   ]
  },
  {
   "cell_type": "code",
   "execution_count": 55,
   "id": "3b9642d3",
   "metadata": {},
   "outputs": [
    {
     "name": "stdout",
     "output_type": "stream",
     "text": [
      "Um intervalo de confiança de 90% para a média com base em seus dados foi (-3.5352876467843473, 14.775287646784346)\n",
      "Com base nesse intervalo, alguns valores não estão dentro do IC.\n",
      "\n",
      "Um intervalo de confiança de 95% para a média com base em seus dados foi (-5.289198096282142, 16.529198096282144)\n",
      "Com base nesse intervalo, alguns valores não dentro do IC.\n",
      "\n",
      "Um intervalo de confiança de 99% para a média com base em seus dados foi (-8.717116577791463, 19.957116577791467)\n",
      "Com base nesse intervalo, os valores estão dentro do IC.\n"
     ]
    }
   ],
   "source": [
    "print(f'Um intervalo de confiança de 90% para a média com base em seus dados foi {conf_int90}')\n",
    "print(f'Com base nesse intervalo, alguns valores não estão dentro do IC.')\n",
    "\n",
    "print()\n",
    "\n",
    "print(f'Um intervalo de confiança de 95% para a média com base em seus dados foi {conf_int95}')\n",
    "print(f'Com base nesse intervalo, alguns valores não dentro do IC.')\n",
    "print()\n",
    "print(f'Um intervalo de confiança de 99% para a média com base em seus dados foi {conf_int99}')\n",
    "print(f'Com base nesse intervalo, os valores estão dentro do IC.')"
   ]
  },
  {
   "cell_type": "code",
   "execution_count": 56,
   "id": "5db7c6e2",
   "metadata": {},
   "outputs": [
    {
     "name": "stdout",
     "output_type": "stream",
     "text": [
      "[1.74, 2.5, 3.38, 3.52, 3.6, 19.12]\n",
      "Media: 5.6433333333333335\n",
      "Desvio padrão: 6.641438599179147\n"
     ]
    }
   ],
   "source": [
    "b.sort()\n",
    "\n",
    "print(b)\n",
    "\n",
    "m = media(b)  \n",
    "print(f'Media: {m}')\n",
    "\n",
    "dp = desPadrao(b)\n",
    "print(f'Desvio padrão: {dp}')\n",
    " \n",
    "#intervalo de confiança 90%\n",
    "conf_int90b = scipy.stats.norm.interval(0.90, loc=m, scale=dp) \n",
    "\n",
    "#intervalo de confiança 90%\n",
    "conf_int95b = scipy.stats.norm.interval(0.95, loc=m, scale=dp) \n",
    "\n",
    "#intervalo de confiança 90%\n",
    "conf_int99b = scipy.stats.norm.interval(0.99, loc=m, scale=dp) "
   ]
  },
  {
   "cell_type": "code",
   "execution_count": 57,
   "id": "64f04e3b",
   "metadata": {},
   "outputs": [
    {
     "name": "stdout",
     "output_type": "stream",
     "text": [
      "Um intervalo de confiança de 90% para a média com base em seus dados foi (-5.280861034701997, 16.567527701368657)\n",
      "Com base nesse intervalo, alguns valores não estão dentro do IC.\n",
      "\n",
      "Um intervalo de confiança de 95% para a média com base em seus dados foi (-7.373647126591943, 18.66031379325861)\n",
      "Com base nesse intervalo, alguns valores não estão dentro do IC.\n",
      "\n",
      "Um intervalo de confiança de 99% para a média com base em seus dados foi (-11.463878828153074, 22.750545494819743)\n",
      "Com base nesse intervalo, os valores estão dentro do IC.\n"
     ]
    }
   ],
   "source": [
    "print(f'Um intervalo de confiança de 90% para a média com base em seus dados foi {conf_int90b}')\n",
    "print(f'Com base nesse intervalo, alguns valores não estão dentro do IC.')\n",
    "\n",
    "print()\n",
    "\n",
    "print(f'Um intervalo de confiança de 95% para a média com base em seus dados foi {conf_int95b}')\n",
    "print(f'Com base nesse intervalo, alguns valores não estão dentro do IC.')\n",
    "print()\n",
    "print(f'Um intervalo de confiança de 99% para a média com base em seus dados foi {conf_int99b}')\n",
    "print(f'Com base nesse intervalo, os valores estão dentro do IC.')"
   ]
  },
  {
   "cell_type": "markdown",
   "id": "bf27cb76",
   "metadata": {},
   "source": [
    "Não, podemos afirmar que os dois sistemas são significativamente diferentes, pois para ICs de 90% e 95% alguns dos valores de A e B não estão no intervalo, ao contrario do IC 99% que os valores se encontram dentro do intervalo. "
   ]
  },
  {
   "cell_type": "markdown",
   "id": "5bd112a0",
   "metadata": {},
   "source": [
    "# #####################"
   ]
  },
  {
   "cell_type": "markdown",
   "id": "bafa2d02",
   "metadata": {},
   "source": [
    "Estamos projetando um experimento e gostaríamos de saber quantos estudantes\n",
    "do IComp utilizam uma app. Em anos anteriores, o desvio padrão dessa informação\n",
    "era 6. Se queremos um nível de confiança de 95%, com largura não maior que 3,\n",
    "quantos estudantes devem participar da amostra?"
   ]
  },
  {
   "cell_type": "code",
   "execution_count": 65,
   "id": "2c7d8f4a",
   "metadata": {},
   "outputs": [
    {
     "name": "stdout",
     "output_type": "stream",
     "text": [
      "De acordo com o intervalo de confiança de 95% a quantidade de estudantes que devem participar da amostra está no intervalo: (-8.759783907240324, 14.759783907240324)\n"
     ]
    }
   ],
   "source": [
    "conf_int = scipy.stats.norm.interval(0.95, loc=3, scale=6) \n",
    "\n",
    "print(f'De acordo com o intervalo de confiança de 95% a quantidade de estudantes que devem participar da amostra está no intervalo: {conf_int}')"
   ]
  },
  {
   "cell_type": "markdown",
   "id": "9185f31b",
   "metadata": {},
   "source": [
    "# #####################"
   ]
  },
  {
   "cell_type": "markdown",
   "id": "07958135",
   "metadata": {},
   "source": [
    "Baseado em um teste preliminar, a média amostral do tempo de resposta de um\n",
    "sistema é igual 20 segundos, e a desvio padrão é igual a 5 segundos. Quantas\n",
    "repetições são necessárias para obter um tempo de resposta com precisão não\n",
    "maior que 1 segundo no nível de confiança de 95%?"
   ]
  },
  {
   "cell_type": "code",
   "execution_count": 71,
   "id": "8ca88058",
   "metadata": {},
   "outputs": [
    {
     "name": "stdout",
     "output_type": "stream",
     "text": [
      "De acordo com o intervalo de confiança de 95% a quantidade de repetições que são necessárias para obter um tempo de resposta com precisão não maior que 1 segundo está no intervalo: (10.20018007729973, 29.79981992270027)\n"
     ]
    }
   ],
   "source": [
    "conf_int = scipy.stats.norm.interval(0.95, loc=20, scale=5) \n",
    "\n",
    "print(f\"De acordo com o intervalo de confiança de 95% a quantidade de repetições que são necessárias para obter um tempo de resposta com precisão não maior que 1 segundo está no intervalo: {conf_int}\")"
   ]
  },
  {
   "cell_type": "code",
   "execution_count": null,
   "id": "f1eec79c",
   "metadata": {},
   "outputs": [],
   "source": []
  }
 ],
 "metadata": {
  "kernelspec": {
   "display_name": "Python 3 (ipykernel)",
   "language": "python",
   "name": "python3"
  },
  "language_info": {
   "codemirror_mode": {
    "name": "ipython",
    "version": 3
   },
   "file_extension": ".py",
   "mimetype": "text/x-python",
   "name": "python",
   "nbconvert_exporter": "python",
   "pygments_lexer": "ipython3",
   "version": "3.8.10"
  }
 },
 "nbformat": 4,
 "nbformat_minor": 5
}
