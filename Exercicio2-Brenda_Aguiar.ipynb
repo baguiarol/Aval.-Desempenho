{
 "cells": [
  {
   "cell_type": "markdown",
   "id": "95414fa9",
   "metadata": {},
   "source": [
    "# Avaliação de Desempenho\n",
    "\n",
    "## Atividades da aula do dia 31/01/2021 (até o slide 52)"
   ]
  },
  {
   "cell_type": "markdown",
   "id": "41e64fe8",
   "metadata": {},
   "source": [
    "### Aluna: Brenda Aguiar"
   ]
  },
  {
   "cell_type": "code",
   "execution_count": 25,
   "id": "558fae0d",
   "metadata": {},
   "outputs": [],
   "source": [
    "import math as mt\n",
    "import numpy as np\n",
    "import scipy.stats\n",
    "import pandas as pd\n",
    "import matplotlib.pyplot as plt"
   ]
  },
  {
   "cell_type": "markdown",
   "id": "cb159e64",
   "metadata": {},
   "source": [
    "Calcular a amplitude das amostras dos grupos X, Y, Z, W e V.\n",
    "\n",
    "Grupo X: 3, 4, 5, 6, 7\n",
    "\n",
    "Grupo Y: 1, 3, 5, 7, 9\n",
    "\n",
    "Grupo Z: 5, 5, 5, 5, 5\n",
    "\n",
    "Grupo W: 3, 5, 5, 5, 7\n",
    "\n",
    "Grupo V: 3, 5, 5, 6, 6"
   ]
  },
  {
   "cell_type": "code",
   "execution_count": 26,
   "id": "4654137b",
   "metadata": {},
   "outputs": [],
   "source": [
    "grupoX = [3, 4, 5, 6, 7]\n",
    "grupoY = [1, 3, 5, 7, 9]\n",
    "grupoZ = [5, 5, 5, 5, 5]\n",
    "grupoW = [3, 5, 5, 5, 7]\n",
    "grupoV = [3, 5, 5, 6, 6]"
   ]
  },
  {
   "cell_type": "markdown",
   "id": "29b90b94",
   "metadata": {},
   "source": [
    "Quanto mais proximo é o menor valor das amostras com o maior das amostras, menor será a amplitude."
   ]
  },
  {
   "cell_type": "code",
   "execution_count": 27,
   "id": "657a04b6",
   "metadata": {},
   "outputs": [
    {
     "name": "stdout",
     "output_type": "stream",
     "text": [
      "Amplitude do Grupo X: 4\n",
      "Amplitude do Grupo Y: 8\n",
      "Amplitude do Grupo Z: 0\n",
      "Amplitude do Grupo W: 4\n",
      "Amplitude do Grupo V: 3\n"
     ]
    }
   ],
   "source": [
    "def amplitude(lista):\n",
    "    amp = max(lista) - min(lista)\n",
    "    return amp\n",
    "\n",
    "print(f'Amplitude do Grupo X: {amplitude(grupoX)}')\n",
    "print(f'Amplitude do Grupo Y: {amplitude(grupoY)}')\n",
    "print(f'Amplitude do Grupo Z: {amplitude(grupoZ)}')\n",
    "print(f'Amplitude do Grupo W: {amplitude(grupoW)}')\n",
    "print(f'Amplitude do Grupo V: {amplitude(grupoV)}')"
   ]
  },
  {
   "cell_type": "markdown",
   "id": "2aff53bf",
   "metadata": {},
   "source": [
    "Um aplicativo foi desenvolvido para registrar o tempo T que o\n",
    "celular de um usuário está próximo do celular de outro usuário.\n",
    "Valores da duração de alguns desses contatos (em segundos):\n",
    "\n",
    "23,17,18,32,19,27,22,16,24,29\n",
    "\n",
    "Calcule a amplitude dessa amostra"
   ]
  },
  {
   "cell_type": "code",
   "execution_count": 28,
   "id": "5abaa850",
   "metadata": {},
   "outputs": [
    {
     "name": "stdout",
     "output_type": "stream",
     "text": [
      "Amplitude da duracao de contato: 16\n"
     ]
    }
   ],
   "source": [
    "duracao = [23,17,18,32,19,27,22,16,24,29]\n",
    "\n",
    "print(f'Amplitude da duracao de contato: {amplitude(duracao)}')"
   ]
  },
  {
   "cell_type": "markdown",
   "id": "c3e61167",
   "metadata": {},
   "source": [
    "Suponha que dois usuários não se viam há muito tempo e o aplicativo\n",
    "registrou 1200 segundos de duração do contato. A amostra ficou assim:\n",
    "\n",
    "23,17, 18, 32, 19, 27, 22, 16, 24, 1200\n",
    "\n",
    "Calcule a amplitude dessa amostra.\n",
    "O que podemos dizer sobre essa segunda amostra?\n",
    "\n",
    "<b> R: A amplitude aumentou por causa dos dois usuarios que não se viam a muito tempo. O maior valor dessa amostra é bem grande comparada com os valores anteriores.</b>"
   ]
  },
  {
   "cell_type": "code",
   "execution_count": 29,
   "id": "69366955",
   "metadata": {},
   "outputs": [
    {
     "name": "stdout",
     "output_type": "stream",
     "text": [
      "Amplitude da duracao de contato: 1184\n"
     ]
    }
   ],
   "source": [
    "duracao = [23,17, 18, 32, 19, 27, 22, 16, 24, 1200]\n",
    "\n",
    "print(f'Amplitude da duracao de contato: {amplitude(duracao)}')"
   ]
  },
  {
   "cell_type": "markdown",
   "id": "e2c7d4a5",
   "metadata": {},
   "source": [
    "O analista de redes de uma empresa coletou uma amostra do tempo\n",
    "(em segundos) de acesso a uma página web que alguns usuários\n",
    "observaram em dois dias consecutivos. As observações do primeiro dia\n",
    "foram {45, 74, 56, 98, 32, 97} e as do segundo dia foram {48, 81, 33, 40,\n",
    "84}. Ache a variância amostral e o desvio-padrão de cada amostra. Faça\n",
    "uma análise comparativa\n",
    "\n",
    "<b> R: como a partir dos valores obtidos para o desvio padrão, a dispersão do primeiro conjunto de dados é muito superior à do segundo conjunto. </b>"
   ]
  },
  {
   "cell_type": "code",
   "execution_count": 30,
   "id": "006c3b73",
   "metadata": {},
   "outputs": [],
   "source": [
    "def media(lista):\n",
    "    soma = 0\n",
    "    for i in range(len(lista)):\n",
    "        soma += lista[i]\n",
    "    return soma/len(lista)\n",
    "\n",
    "def varAmostral(lista):\n",
    "    m = media(lista)\n",
    "    soma = 0\n",
    "    for i in range(len(lista)):\n",
    "        soma += (lista[i]-m)**2\n",
    "    return soma/(len(lista)-1)\n",
    "      \n",
    "def desPadrao(lista):\n",
    "    dp = mt.sqrt(varAmostral(lista))\n",
    "    return dp"
   ]
  },
  {
   "cell_type": "code",
   "execution_count": 31,
   "id": "a854ef88",
   "metadata": {},
   "outputs": [
    {
     "name": "stdout",
     "output_type": "stream",
     "text": [
      "Variancia amostral do primeiro dia: 748.0\n",
      "Variancia amostral do segundo dia: 562.7\n",
      "Desvio padrão do primeiro dia: 27.349588662354687\n",
      "Desvio padrão do segundo dia: 23.721298446754556\n"
     ]
    }
   ],
   "source": [
    "tempoPrimeiro =  [45, 74, 56, 98, 32, 97]\n",
    "tempoSegundo = [48, 81, 33, 40, 84]\n",
    "\n",
    "print(f'Variancia amostral do primeiro dia: {varAmostral(tempoPrimeiro)}')\n",
    "print(f'Variancia amostral do segundo dia: {varAmostral(tempoSegundo)}')\n",
    "\n",
    "print(f'Desvio padrão do primeiro dia: {desPadrao(tempoPrimeiro)}')\n",
    "print(f'Desvio padrão do segundo dia: {desPadrao(tempoSegundo)}')"
   ]
  },
  {
   "cell_type": "markdown",
   "id": "f1917e41",
   "metadata": {},
   "source": [
    "Um psicultor mediu o tamanho de alguns peixes a fim de monitorar a\n",
    "condição ideal para o consumo. A amostra apresentou os seguintes\n",
    "valores em cm: \n",
    "\n",
    "76,102,12,39,55,93,98,53,102. \n",
    "\n",
    "Verifique se o tamanho médio é representativo.\n",
    "\n"
   ]
  },
  {
   "cell_type": "markdown",
   "id": "4b277e5b",
   "metadata": {},
   "source": [
    "<b> R: estão “muito concentrados” ao redor da média aritmética, esta será muito representativa. Ao determinar a média do tamanho de alguns peixes obteve-se o valor = 70. <b/>"
   ]
  },
  {
   "cell_type": "code",
   "execution_count": 32,
   "id": "9eb10b4f",
   "metadata": {},
   "outputs": [
    {
     "name": "stdout",
     "output_type": "stream",
     "text": [
      "70.0\n",
      "[12, 39, 53, 55, 76, 93, 98, 102, 102]\n",
      "Amplitude do tamanho de alguns peixes: 90\n"
     ]
    }
   ],
   "source": [
    "tamPeixe = [76,102,12,39,55,93,98,53,102]\n",
    "\n",
    "print(media(tamPeixe))\n",
    "\n",
    "tamPeixe.sort()\n",
    "print(tamPeixe)\n",
    "\n",
    "print(f'Amplitude do tamanho de alguns peixes: {amplitude(tamPeixe)}')\n"
   ]
  },
  {
   "cell_type": "markdown",
   "id": "131bfe40",
   "metadata": {},
   "source": [
    "Construir um IC com níveis de confiança de 90%, 95% e 99%,\n",
    "para os seguintes dados coletados em um experimento:\n",
    "\n",
    "177 122 128 191 180 142 197 196 67 160\n",
    "167 138 107 188 102 116 138 114 188 176\n",
    "148 175 169 203 135 142 168 181 168 150\n",
    "132 196 88 177 164 118 178 102 156 114 "
   ]
  },
  {
   "cell_type": "code",
   "execution_count": 33,
   "id": "560b2882",
   "metadata": {},
   "outputs": [],
   "source": [
    "experimento = [177, 122, 128, 191, 180, 142, 197, 196, 67, \n",
    "               160, 167, 138, 107, 188, 102, 116, 138, 114, \n",
    "               188, 176, 148, 175, 169, 203, 135, 142, 168, \n",
    "               181, 168, 150, 132, 196, 88, 177, 164, 118, \n",
    "               178, 102, 156, 114]\n",
    "\n",
    "m = media(experimento)  \n",
    "#print(m)\n",
    "\n",
    "dp = desPadrao(experimento)\n",
    " \n",
    "#intervalo de confiança 90%\n",
    "conf_int90 = scipy.stats.norm.interval(0.90, loc=m, scale=dp) \n",
    "\n",
    "#intervalo de confiança 90%\n",
    "conf_int95 = scipy.stats.norm.interval(0.95, loc=m, scale=dp) \n",
    "\n",
    "#intervalo de confiança 90%\n",
    "conf_int99 = scipy.stats.norm.interval(0.99, loc=m, scale=dp) "
   ]
  },
  {
   "cell_type": "code",
   "execution_count": 34,
   "id": "a40f391a",
   "metadata": {},
   "outputs": [
    {
     "name": "stdout",
     "output_type": "stream",
     "text": [
      "intervalo de confiança 90%: (95.59703196615075, 207.3029680338492)\n",
      "intervalo de confiança 95%: (84.89708369041942, 218.00291630958054)\n",
      "intervalo de confiança 99%: (63.984641748999024, 238.91535825100095)\n"
     ]
    }
   ],
   "source": [
    "print(f'intervalo de confiança 90%: {conf_int90}')\n",
    "print(f'intervalo de confiança 95%: {conf_int95}')\n",
    "print(f'intervalo de confiança 99%: {conf_int99}')"
   ]
  },
  {
   "cell_type": "markdown",
   "id": "68218026",
   "metadata": {},
   "source": [
    "O seguinte dataset contém dados sobre os Vingadores da Marvel:\n",
    "\n",
    "https://github.com/fivethirtyeight/data/tree/master/avengers\n",
    "\n",
    "Selecione os dados da coluna sobre as aparições e encontre as\n",
    "estatísticas estudadas até aqui."
   ]
  },
  {
   "cell_type": "code",
   "execution_count": 35,
   "id": "d33211ef",
   "metadata": {},
   "outputs": [],
   "source": [
    "df = pd.read_csv('avengers.csv', encoding='latin-1')"
   ]
  },
  {
   "cell_type": "code",
   "execution_count": 36,
   "id": "a8cb417c",
   "metadata": {},
   "outputs": [
    {
     "name": "stdout",
     "output_type": "stream",
     "text": [
      "<class 'pandas.core.frame.DataFrame'>\n",
      "RangeIndex: 173 entries, 0 to 172\n",
      "Data columns (total 21 columns):\n",
      " #   Column                       Non-Null Count  Dtype \n",
      "---  ------                       --------------  ----- \n",
      " 0   URL                          173 non-null    object\n",
      " 1   Name/Alias                   163 non-null    object\n",
      " 2   Appearances                  173 non-null    int64 \n",
      " 3   Current?                     173 non-null    object\n",
      " 4   Gender                       173 non-null    object\n",
      " 5   Probationary Introl          15 non-null     object\n",
      " 6   Full/Reserve Avengers Intro  159 non-null    object\n",
      " 7   Year                         173 non-null    int64 \n",
      " 8   Years since joining          173 non-null    int64 \n",
      " 9   Honorary                     173 non-null    object\n",
      " 10  Death1                       173 non-null    object\n",
      " 11  Return1                      69 non-null     object\n",
      " 12  Death2                       17 non-null     object\n",
      " 13  Return2                      16 non-null     object\n",
      " 14  Death3                       2 non-null      object\n",
      " 15  Return3                      2 non-null      object\n",
      " 16  Death4                       1 non-null      object\n",
      " 17  Return4                      1 non-null      object\n",
      " 18  Death5                       1 non-null      object\n",
      " 19  Return5                      1 non-null      object\n",
      " 20  Notes                        75 non-null     object\n",
      "dtypes: int64(3), object(18)\n",
      "memory usage: 28.5+ KB\n"
     ]
    }
   ],
   "source": [
    "df.info()"
   ]
  },
  {
   "cell_type": "code",
   "execution_count": 37,
   "id": "f0cbaf0d",
   "metadata": {},
   "outputs": [],
   "source": [
    "m = media(df['Appearances'])\n",
    "var = varAmostral(df['Appearances'])\n",
    "dp = desPadrao(df['Appearances'])\n"
   ]
  },
  {
   "cell_type": "code",
   "execution_count": 38,
   "id": "54d8de79",
   "metadata": {},
   "outputs": [
    {
     "name": "stdout",
     "output_type": "stream",
     "text": [
      "Media de apariçoes: 414.05202312138726\n",
      "Variancia amostral: 459673.0844871623\n",
      "Desvio padrão: 677.9919501639841\n"
     ]
    }
   ],
   "source": [
    "print(f'Media de apariçoes: { m }')\n",
    "\n",
    "print(f'Variancia amostral: {var}')\n",
    "\n",
    "print(f'Desvio padrão: {dp}')"
   ]
  },
  {
   "cell_type": "markdown",
   "id": "6a549afe",
   "metadata": {},
   "source": [
    "Analisar aparições tanto de homens quanto de mulheres ao longo dos anos."
   ]
  },
  {
   "cell_type": "code",
   "execution_count": 50,
   "id": "d30f13a0",
   "metadata": {},
   "outputs": [
    {
     "name": "stdout",
     "output_type": "stream",
     "text": [
      "Media de apariçoes: 490.0695652173913\n",
      "Variancia amostral: 611861.9073989324\n",
      "Desvio padrão: 782.2160234864359\n"
     ]
    }
   ],
   "source": [
    "\n",
    "aparicoes_homi = np.array(df[df.Gender == \"MALE\"].Appearances)\n",
    "\n",
    "m = media(aparicoes_homi)\n",
    "var = varAmostral(aparicoes_homi)\n",
    "dp = desPadrao(aparicoes_homi)\n",
    "\n",
    "print(f'Media de apariçoes: { m }')\n",
    "\n",
    "print(f'Variancia amostral: {var}')\n",
    "\n",
    "print(f'Desvio padrão: {dp}')"
   ]
  },
  {
   "cell_type": "code",
   "execution_count": 52,
   "id": "39c79b1d",
   "metadata": {},
   "outputs": [
    {
     "name": "stdout",
     "output_type": "stream",
     "text": [
      "Media de apariçoes: 263.32758620689657\n",
      "Variancia amostral: 128584.75045372052\n",
      "Desvio padrão: 358.58715879646405\n"
     ]
    }
   ],
   "source": [
    "aparicoes_muie = np.array(df[df.Gender == \"FEMALE\"].Appearances)\n",
    "\n",
    "m = media(aparicoes_muie)\n",
    "var = varAmostral(aparicoes_muie)\n",
    "dp = desPadrao(aparicoes_muie)\n",
    "\n",
    "print(f'Media de apariçoes: { m }')\n",
    "\n",
    "print(f'Variancia amostral: {var}')\n",
    "\n",
    "print(f'Desvio padrão: {dp}')"
   ]
  },
  {
   "cell_type": "code",
   "execution_count": 144,
   "id": "86b67aae",
   "metadata": {},
   "outputs": [],
   "source": [
    "ano_aparicao_muie = np.array(df[df.Gender == \"FEMALE\"].Year)\n",
    "ano_aparicao_homi = np.array(df[df.Gender == \"MALE\"].Year)\n",
    "\n",
    "\n",
    "#remove os repetidos da lista\n",
    "def remove_repetidos(ano, aparicoes):\n",
    "    ano_aparicoes = []\n",
    "    fr_aparicoes = []\n",
    "    soma = 0\n",
    "    for i in ano:\n",
    "        if i not in ano_aparicoes:\n",
    "            ano_aparicoes.append(i)\n",
    "    ano_aparicoes.sort()\n",
    "    \n",
    "    for i in range(len(ano_aparicoes)):\n",
    "        for j in range(len(ano)):\n",
    "            if(ano_aparicoes[i] == ano[j]):\n",
    "                soma += aparicoes[j]\n",
    "        fr_aparicoes.append(soma)\n",
    "        soma = 0\n",
    "    \n",
    "    return ano_aparicoes, fr_aparicoes"
   ]
  },
  {
   "cell_type": "code",
   "execution_count": 148,
   "id": "c2419d80",
   "metadata": {
    "scrolled": true
   },
   "outputs": [
    {
     "name": "stdout",
     "output_type": "stream",
     "text": [
      "[1900, 1963, 1965, 1973, 1976, 1978, 1979, 1981, 1982, 1983, 1984, 1987, 1988, 1989, 1990, 1992, 1993, 1996, 1998, 2000, 2004, 2005, 2008, 2010, 2012, 2013, 2014]\n",
      "[507, 1165, 1214, 1272, 889, 108, 935, 355, 933, 348, 374, 169, 250, 58, 237, 735, 80, 18, 330, 43, 24, 581, 525, 1402, 1679, 993, 49]\n"
     ]
    }
   ],
   "source": [
    "anoAparicaoM, aparicaoM = remove_repetidos(ano_aparicao_muie, aparicoes_muie)\n",
    "\n",
    "print(anoAparicaoM)\n",
    "print(aparicaoM)"
   ]
  },
  {
   "cell_type": "code",
   "execution_count": 242,
   "id": "5122da0f",
   "metadata": {
    "scrolled": true
   },
   "outputs": [
    {
     "data": {
      "image/png": "[encoded data removed]",
      "text/plain": [
       "<Figure size 1080x504 with 1 Axes>"
      ]
     },
     "metadata": {
      "needs_background": "light"
     },
     "output_type": "display_data"
    }
   ],
   "source": [
    "plt.style.use('seaborn-deep')\n",
    "plt.figure(figsize=(15,7))\n",
    "plt.grid()\n",
    "\n",
    "plt.title('Aparições de mulheres durante os anos nos Vingadores', fontsize=26)\n",
    "plt.xlabel('Anos', fontsize=20)\n",
    "plt.ylabel('Aparições das Mulheres', fontsize=20)\n",
    "\n",
    "x_ticks = np.arange(0, max(aparicaoM)+100, 100)\n",
    "\n",
    "plt.yticks(x_ticks)\n",
    "# plt.ylim(0, 2000)\n",
    "plt.bar(anoAparicaoM, aparicaoM, label = \"Aparições\")\n",
    "plt.legend(loc='upper left')\n",
    "plt.show()\n"
   ]
  },
  {
   "cell_type": "code",
   "execution_count": 222,
   "id": "9e54b92a",
   "metadata": {},
   "outputs": [
    {
     "name": "stdout",
     "output_type": "stream",
     "text": [
      "[1900, 1963, 1964, 1965, 1967, 1968, 1969, 1975, 1976, 1978, 1979, 1984, 1985, 1986, 1987, 1988, 1989, 1990, 1991, 1992, 1993, 1996, 1998, 2000, 2001, 2003, 2005, 2006, 2007, 2008, 2009, 2010, 2011, 2012, 2013, 2014, 2015]\n",
      "[702, 9440, 3458, 2340, 741, 1816, 482, 197, 1886, 957, 1268, 739, 1561, 2305, 158, 472, 5255, 4459, 112, 382, 168, 27, 302, 101, 126, 217, 4630, 180, 2764, 663, 166, 1664, 2102, 1338, 2993, 74, 113]\n"
     ]
    }
   ],
   "source": [
    "anoAparicaoH, aparicaoH = remove_repetidos(ano_aparicao_homi, aparicoes_homi)\n",
    "\n",
    "print(anoAparicaoH)\n",
    "print(aparicaoH)"
   ]
  },
  {
   "cell_type": "code",
   "execution_count": 240,
   "id": "3ace69d0",
   "metadata": {
    "scrolled": true
   },
   "outputs": [
    {
     "data": {
      "image/png": "[encoded data removed]",
      "text/plain": [
       "<Figure size 1080x504 with 1 Axes>"
      ]
     },
     "metadata": {
      "needs_background": "light"
     },
     "output_type": "display_data"
    }
   ],
   "source": [
    "plt.style.use('seaborn-deep')\n",
    "plt.figure(figsize=(15,7))\n",
    "plt.grid()\n",
    "\n",
    "plt.title('Aparições dos homens durante os anos nos Vingadores', fontsize=26)\n",
    "plt.xlabel('Anos', fontsize=20)\n",
    "plt.ylabel('Aparições dos homens', fontsize=20)\n",
    "\n",
    "x_ticks = np.arange(0, max(aparicaoH)+200, 600)\n",
    "\n",
    "plt.yticks(x_ticks)\n",
    "\n",
    "plt.bar(anoAparicaoH, aparicaoH, label = \"Aparições\")\n",
    "plt.legend(loc='upper right')\n",
    "plt.show()\n"
   ]
  },
  {
   "cell_type": "code",
   "execution_count": 236,
   "id": "23ee709f",
   "metadata": {},
   "outputs": [
    {
     "name": "stdout",
     "output_type": "stream",
     "text": [
      "A maior quantidade dos homens nos Vingadores foi em 1963 com 9440 apariçoes\n",
      "A maior quantidade de mulheres nos Vingadores foi em 2012 com 1679 apariçoes\n"
     ]
    }
   ],
   "source": [
    "\n",
    "maior_apaH = max(aparicaoH)\n",
    "index_anoH = aparicaoH.index(maior_apaH)\n",
    "\n",
    "print(f\"A maior quantidade dos homens nos Vingadores foi em {anoAparicaoH[index_anoH]} com {maior_apaH} apariçoes\")\n",
    "\n",
    "maior_apaM = max(aparicaoM)\n",
    "index_anoM = aparicaoM.index(maior_apaM)\n",
    "\n",
    "print(f\"A maior quantidade de mulheres nos Vingadores foi em {anoAparicaoM[index_anoM]} com {maior_apaM} apariçoes\")"
   ]
  },
  {
   "cell_type": "markdown",
   "id": "996ac5e8",
   "metadata": {},
   "source": [
    "Ao comparar os dois graficos de apariçoes de homens e mulheres durante o anos, foi visto que os homens foram mais recorrentes nos Vingadores, sendo eles com mais apariçoes em boa parte dos anos. "
   ]
  },
  {
   "cell_type": "code",
   "execution_count": null,
   "id": "e5bd1d22",
   "metadata": {},
   "outputs": [],
   "source": []
  }
 ],
 "metadata": {
  "kernelspec": {
   "display_name": "Python 3 (ipykernel)",
   "language": "python",
   "name": "python3"
  },
  "language_info": {
   "codemirror_mode": {
    "name": "ipython",
    "version": 3
   },
   "file_extension": ".py",
   "mimetype": "text/x-python",
   "name": "python",
   "nbconvert_exporter": "python",
   "pygments_lexer": "ipython3",
   "version": "3.8.10"
  }
 },
 "nbformat": 4,
 "nbformat_minor": 5
}
