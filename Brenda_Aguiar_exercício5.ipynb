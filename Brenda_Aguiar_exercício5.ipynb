{
 "cells": [
  {
   "cell_type": "markdown",
   "id": "08b950dc",
   "metadata": {},
   "source": [
    "* Repetir o exercício 2\n",
    "* Eliminar o transiente usando a heurística MSER-5Y\n",
    "* Analisar o estado estacionário usando o método Batch Means.\n",
    "* Encontrar o intervalo de confiança de 95% para os seguintes casos\n",
    "** Caso I\n",
    "    - taxa de entrada: λ=9,0 clientes por segundo.\n",
    "    - taxa de serviço: μ=10 clientes por segundo.\n",
    "** Caso II\n",
    "   - taxa de entrada: λ=9,5 clientes por segundo.\n",
    "   - taxa de serviço: μ=10 clientes por segundo."
   ]
  },
  {
   "cell_type": "code",
   "execution_count": 1,
   "id": "23a2254d",
   "metadata": {},
   "outputs": [],
   "source": [
    "import random                      \n",
    "import simpy # biblioteca de simulação\n",
    "import math as mt\n",
    "from tqdm import tqdm\n",
    "import statistics as ss\n",
    "import scipy.stats as st\n",
    "import matplotlib.pyplot as plt\n",
    "import numpy as np"
   ]
  },
  {
   "cell_type": "code",
   "execution_count": 2,
   "id": "25c5a99d",
   "metadata": {},
   "outputs": [],
   "source": [
    "taxaEntrada = 9           # taxa de entrada: λ=9 clientes por segundo. \n",
    "taxaServico = 10          # taxa de serviço: μ=10 clientes por segundo."
   ]
  },
  {
   "cell_type": "code",
   "execution_count": 3,
   "id": "8f1ab5dd",
   "metadata": {},
   "outputs": [],
   "source": [
    "def media(lista):\n",
    "    soma = 0\n",
    "    for i in range(len(lista)):\n",
    "        soma += lista[i]\n",
    "    return soma/len(lista)\n",
    "\n",
    "def varAmostral(lista):\n",
    "    m = media(lista)\n",
    "    soma = 0\n",
    "    for i in range(len(lista)):\n",
    "        soma += (lista[i]-m)**2\n",
    "    return soma/(len(lista)-1)\n",
    "      \n",
    "def desPadrao(lista):\n",
    "    dp = mt.sqrt(varAmostral(lista))\n",
    "    return dp\n",
    "\n",
    "def exponencial(b):\n",
    "    u = random.random()\n",
    "    x = -b * mt.log(1-u)\n",
    "\n",
    "    return(x)"
   ]
  },
  {
   "cell_type": "code",
   "execution_count": 4,
   "id": "2a12653f",
   "metadata": {},
   "outputs": [],
   "source": [
    "def tempoQuantiMedia(quanti, media):\n",
    "    return [-(1/media) *  np.log(1 - np.random.uniform(0,1)) for _ in range(quanti-1)]"
   ]
  },
  {
   "cell_type": "code",
   "execution_count": 5,
   "id": "356fba54",
   "metadata": {},
   "outputs": [],
   "source": [
    "def mm1(n, lamb, mi):\n",
    "    medioEsperaFila = tempoQuantiMedia(n, lamb)\n",
    "    servicos = tempoQuantiMedia(n, mi)\n",
    "    filaEsperas = [0]\n",
    "    espera = 0\n",
    "    i = 0\n",
    "    while i < len(medioEsperaFila):\n",
    "        servicoCompleto = servicos[i] + filaEsperas[-1]\n",
    "        if (medioEsperaFila[i] <= servicoCompleto):\n",
    "             espera = (servicos[i] - medioEsperaFila[i]) + filaEsperas[-1]\n",
    "        else:\n",
    "             espera = 0\n",
    "        filaEsperas.append(espera)\n",
    "        i+=1\n",
    "    return filaEsperas"
   ]
  },
  {
   "cell_type": "code",
   "execution_count": 6,
   "id": "7c8f5b51",
   "metadata": {},
   "outputs": [],
   "source": [
    "def mser5y(nClientes, x):\n",
    "    auxList = []\n",
    "    aux = 0\n",
    "    z = []\n",
    "    i = j =0\n",
    "    while i < nClientes:\n",
    "        while j < 5:\n",
    "            auxList.append(x[i])\n",
    "            i +=1\n",
    "            j +=1\n",
    "        z.append(media(auxList))\n",
    "        auxList.clear()\n",
    "        j=0\n",
    "    mser5yList = []\n",
    "    k = nClientes/5\n",
    "    meio = k/2\n",
    "    d = 0\n",
    "    while d < meio:\n",
    "        desvpZ = ss.fmean(z)\n",
    "        aux = desvpZ / mt.sqrt(k-d)\n",
    "        mser5yList.append(aux)\n",
    "        d += 1\n",
    "        del z[0]\n",
    "    menor = min(mser5yList)              \n",
    "    posicao = mser5yList.index(menor)\n",
    "    return posicao"
   ]
  },
  {
   "cell_type": "code",
   "execution_count": 7,
   "id": "c6848136",
   "metadata": {},
   "outputs": [],
   "source": [
    "def batchmeans (lista, b, m): #funcao: lista dos elementos no estado estacionário, b = blocos, m = tamanho dos blocos\n",
    "    n = b*m         #total de observações\n",
    "    i = 0\n",
    "    j = 0\n",
    "    listaux = []\n",
    "    listaMedias = []\n",
    "    while i < n:\n",
    "        while j < m:\n",
    "            listaux.append(lista[i])\n",
    "            i += 1\n",
    "            j += 1\n",
    "        aux = ss.mean(listaux)\n",
    "        listaMedias.append(aux)     #lista com as médias dos blocos\n",
    "        j = 0\n",
    "        listaux.clear()\n",
    "    return(listaMedias)"
   ]
  },
  {
   "cell_type": "code",
   "execution_count": 8,
   "id": "713e8457",
   "metadata": {},
   "outputs": [],
   "source": [
    "def ranking (lista):    #cria lista de rankings \n",
    "    lranking = []\n",
    "    i = 0\n",
    "    l = 0\n",
    "    soma = 0\n",
    "    while l < len(lista):\n",
    "        while i < len(lista):\n",
    "            if lista[i] <= lista[l]:\n",
    "                soma += 1\n",
    "            i += 1\n",
    "        lranking.append(soma)\n",
    "        soma = 0\n",
    "        i = 0\n",
    "        l += 1\n",
    "    return(lranking)\n"
   ]
  },
  {
   "cell_type": "code",
   "execution_count": 9,
   "id": "250bc7c4",
   "metadata": {},
   "outputs": [],
   "source": [
    "def estatisticaVN(lista):\n",
    "    tf = (len(lista) - 1) #B-1\n",
    "    i = 0\n",
    "    somatorio1 = 0\n",
    "    somatorio2 = 0\n",
    "\n",
    "    while i < tf:\n",
    "        sub = lista[i] - lista[i+1]\n",
    "        somatorio1 += mt.pow(sub, 2)\n",
    "        i += 1\n",
    "\n",
    "    mediaR = ss.mean(lista)\n",
    "    i = 0\n",
    "    while i < len(lista): #B\n",
    "        sub = lista[i] - mediaR\n",
    "        somatorio2 += mt.pow(sub, 2)\n",
    "        i += 1 \n",
    "    rvn = somatorio1 / somatorio2\n",
    "    return(rvn)"
   ]
  },
  {
   "cell_type": "code",
   "execution_count": 10,
   "id": "4f8dbf56",
   "metadata": {},
   "outputs": [],
   "source": [
    "def sts (lista, b, m):\n",
    "    n = b*m\n",
    "    i = 0\n",
    "    j = 0\n",
    "    listaux = []\n",
    "    listaA = []\n",
    "\n",
    "    while i < n:\n",
    "        while j < m:\n",
    "            aux = lista[i]\n",
    "            mult = ((m + 1)/2) - (j+1)\n",
    "            listaux.append(mult*aux)\n",
    "            i += 1\n",
    "            j += 1\n",
    "        \n",
    "        soma = sum(listaux)\n",
    "        listaA.append(soma) \n",
    "        j = 0\n",
    "        listaux.clear()\n",
    "\n",
    "    return(listaA)"
   ]
  },
  {
   "cell_type": "code",
   "execution_count": 11,
   "id": "7ee08edf",
   "metadata": {},
   "outputs": [],
   "source": [
    "def E(taxaEntrada, taxaServico):\n",
    "    p = taxaEntrada/taxaServico\n",
    "    e = p*((1/taxaServico)/(1-p))\n",
    "    return e"
   ]
  },
  {
   "cell_type": "code",
   "execution_count": 35,
   "id": "b5211352",
   "metadata": {},
   "outputs": [],
   "source": [
    "def simulacao(n, lamb, mi):\n",
    "    i =0\n",
    "    b = 20\n",
    "    m = 100\n",
    "    x = mm1(n, lamb, mi) # 10^5\n",
    "    mser5yList =  mser5y(n, x)\n",
    "\n",
    "    while mser5yList == 0:\n",
    "        print('Ainda não se encontrou o ponto de truncagem.\\n')\n",
    "        print('A coletar mais informações até que se encontre...')\n",
    "        n += 2000  \n",
    "        x = mm1(n, 9, 10)\n",
    "        mser5yList = mser5y(n, x)\n",
    "\n",
    "    print('Encontrou o fim do transiente...')\n",
    "    print('Eliminando as observações do estado transiente...')\n",
    "    print('Tamanho de M/M/1 final:', len(x))\n",
    "    pontoTruc = mser5yList * 5\n",
    "    print(f'Encontrou-se o ponto de truncagem. Na posição {pontoTruc} da fila')\n",
    "    #eliminando transiente\n",
    "    while i < pontoTruc:\n",
    "        del x[0]\n",
    "        i +=1\n",
    "\n",
    "    print('Tamanho de M/M/1 após o corte: ', len(x), '\\nAgora está no estado estacionario.\\n')\n",
    "    n = b*m\n",
    "    coletaobs = []\n",
    "    i = 0\n",
    "    while i < n:   \n",
    "        coletaobs.append(x[i])\n",
    "        i += 1\n",
    "    batch = batchmeans(coletaobs, b, m)\n",
    "    desPadrao = ss.stdev(batch)\n",
    "    media = ss.mean(batch)\n",
    "    tstudent = st.norm.interval(0.95, loc=media, scale=desPadrao) \n",
    "    print(f\"Intervalo de confiança de 95% {tstudent}\")\n"
   ]
  },
  {
   "cell_type": "code",
   "execution_count": 36,
   "id": "574fc67a",
   "metadata": {},
   "outputs": [
    {
     "name": "stdout",
     "output_type": "stream",
     "text": [
      "Encontrou o fim do transiente...\n",
      "Eliminando as observações do estado transiente...\n",
      "Tamanho de M/M/1 final: 10000\n",
      "Encontrou-se o ponto de truncagem. Na posição 310 da fila\n",
      "Tamanho de M/M/1 após o corte:  9690 \n",
      "Agora está no estado estacionario.\n",
      "\n",
      "Intervalo de confiança de 95% (-0.5667376799653882, 2.4705560512577813)\n"
     ]
    }
   ],
   "source": [
    "simulacao(10000, 9, 10)"
   ]
  },
  {
   "cell_type": "code",
   "execution_count": 37,
   "id": "a0be3707",
   "metadata": {},
   "outputs": [
    {
     "name": "stdout",
     "output_type": "stream",
     "text": [
      "Ainda não se encontrou o ponto de truncagem.\n",
      "\n",
      "A coletar mais informações até que se encontre...\n",
      "Ainda não se encontrou o ponto de truncagem.\n",
      "\n",
      "A coletar mais informações até que se encontre...\n",
      "Encontrou o fim do transiente...\n",
      "Eliminando as observações do estado transiente...\n",
      "Tamanho de M/M/1 final: 14000\n",
      "Encontrou-se o ponto de truncagem. Na posição 650 da fila\n",
      "Tamanho de M/M/1 após o corte:  13350 \n",
      "Agora está no estado estacionario.\n",
      "\n",
      "Intervalo de confiança de 95% (-0.5781091071054996, 2.6323123005243922)\n"
     ]
    }
   ],
   "source": [
    "simulacao(10000, 9.5, 10)"
   ]
  },
  {
   "cell_type": "markdown",
   "id": "ac95c76e",
   "metadata": {},
   "source": [
    "Com o aumento dos clientes, o tempo de espera deveria ser maior por ser igual nos dois casos, no entanto, ao observar o intervalo de confiança, com a utilização da heuristica, obtem-se um tempo proximo nos dois casos, validando que uma boa distribuição pode fazer com o que o tempo de espera na fila seja o mais proximo possivel."
   ]
  },
  {
   "cell_type": "code",
   "execution_count": null,
   "id": "a30d4a3b",
   "metadata": {},
   "outputs": [],
   "source": []
  }
 ],
 "metadata": {
  "kernelspec": {
   "display_name": "Python 3 (ipykernel)",
   "language": "python",
   "name": "python3"
  },
  "language_info": {
   "codemirror_mode": {
    "name": "ipython",
    "version": 3
   },
   "file_extension": ".py",
   "mimetype": "text/x-python",
   "name": "python",
   "nbconvert_exporter": "python",
   "pygments_lexer": "ipython3",
   "version": "3.8.10"
  }
 },
 "nbformat": 4,
 "nbformat_minor": 5
}
